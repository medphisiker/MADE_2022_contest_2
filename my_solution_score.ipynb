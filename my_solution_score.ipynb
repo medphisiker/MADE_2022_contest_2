{
 "cells": [
  {
   "cell_type": "markdown",
   "metadata": {},
   "source": [
    "Я решаю данную задачу используя библиотеку LightAutoML [ссылка](https://github.com/sb-ai-lab/LightAutoML). "
   ]
  },
  {
   "cell_type": "markdown",
   "metadata": {},
   "source": [
    "# Условия\n",
    "\n",
    "## Описание задачи\n",
    "В вашем распоряжении есть набор изображений, которые состоят из нескольких видов геометрических фигур:\n",
    "\n",
    "квадратов;\n",
    "прямоугольников;\n",
    "параллелограммов;\n",
    "окружностей.\n",
    "Ваша задача – посчитать количество квадратов на каждом изображении из тестовых данных. Изображения для обучения можно скачать здесь.\n",
    "\n",
    "## Описание данных\n",
    "Весь набор данных состоит из 3 типов изображений в равном количестве:\n",
    "\n",
    "Содержат только квадраты, которые могут иметь общие стороны, вкладываться друг в друга, но не пересекаться.\n",
    "Содержат квадраты и другие фигуры, все они могут иметь общие стороны, вкладываться друг в друга, но не пересекаться.\n",
    "Содержат квадраты и другие фигуры, которые дополнительно могут пересекаться.\n",
    "Ниже находятся 2 файла, которые потребуются для решения задачи: train.csv – содержит информацию об изображениях для обучения, test.csv – содержит информацию об изображениях для теста. Имеют поля:\n",
    "\n",
    "* img_path – путь до изображения\n",
    "* label – число квадратов на изображении (только в обучающем наборе)\n",
    "* type – тип изображения 1/2/3 (только в обучающем наборе)\n",
    "\n",
    "\n",
    "Пример сабмита можно посмотреть в файле sample_submission.csv. Он содержит одну колонку label, порядок соответствует порядку данных в тестовом наборе.\n",
    "\n",
    "## Метрика качества\n",
    "В качестве метрики качества используется метрика Root Mean Square Error (RMSE):"
   ]
  },
  {
   "cell_type": "markdown",
   "metadata": {},
   "source": [
    "## 0. Предварительная подготовка"
   ]
  },
  {
   "cell_type": "markdown",
   "metadata": {},
   "source": [
    "### 0.0. Установим LightAutoML"
   ]
  },
  {
   "cell_type": "code",
   "execution_count": 1,
   "metadata": {},
   "outputs": [],
   "source": [
    "# установим библиотеку LightAutoML с поддержкой энкодеров\n",
    "# для текста и изображений на основе нейросетей\n",
    "# !pip install -U lightautoml[all]"
   ]
  },
  {
   "cell_type": "code",
   "execution_count": 2,
   "metadata": {},
   "outputs": [],
   "source": [
    "# чтобы работали нейросети и шаблон решения задач\n",
    "# с картинками нужно поставить на библиотеку дополнительный фикс!\n",
    "# !pip install LightAutoML-0.3.7-py3-none-any.whl[all]"
   ]
  },
  {
   "cell_type": "code",
   "execution_count": 3,
   "metadata": {
    "_kg_hide-output": true,
    "execution": {
     "iopub.execute_input": "2022-07-05T14:48:27.156990Z",
     "iopub.status.busy": "2022-07-05T14:48:27.156347Z",
     "iopub.status.idle": "2022-07-05T14:50:52.471659Z",
     "shell.execute_reply": "2022-07-05T14:50:52.470198Z",
     "shell.execute_reply.started": "2022-07-05T14:48:27.156944Z"
    },
    "papermill": {
     "duration": 23.023261,
     "end_time": "2021-06-22T20:10:52.955691",
     "exception": false,
     "start_time": "2021-06-22T20:10:29.93243",
     "status": "completed"
    },
    "scrolled": true,
    "tags": []
   },
   "outputs": [],
   "source": [
    "# в качестве модели извлекающей признаки из картинок будет\n",
    "# использоваться нейросеть EfficientNet\n",
    "# установим эту зависимость.\n",
    "\n",
    "# !pip install efficientnet-pytorch==0.7.0\n",
    "\n",
    "# QUICK WORKAROUND FOR PROBLEM WITH PANDAS\n",
    "# !pip install -U pandas"
   ]
  },
  {
   "cell_type": "code",
   "execution_count": 4,
   "metadata": {
    "execution": {
     "iopub.execute_input": "2022-07-05T14:51:46.798354Z",
     "iopub.status.busy": "2022-07-05T14:51:46.797984Z",
     "iopub.status.idle": "2022-07-05T14:51:49.606148Z",
     "shell.execute_reply": "2022-07-05T14:51:49.605139Z",
     "shell.execute_reply.started": "2022-07-05T14:51:46.798321Z"
    },
    "papermill": {
     "duration": 8.32949,
     "end_time": "2021-06-22T20:11:01.487788",
     "exception": false,
     "start_time": "2021-06-22T20:10:53.158298",
     "status": "completed"
    },
    "tags": []
   },
   "outputs": [
    {
     "name": "stderr",
     "output_type": "stream",
     "text": [
      "/home/admin-gpu/anaconda3/envs/sber_lama/lib/python3.9/site-packages/tqdm/auto.py:22: TqdmWarning: IProgress not found. Please update jupyter and ipywidgets. See https://ipywidgets.readthedocs.io/en/stable/user_install.html\n",
      "  from .autonotebook import tqdm as notebook_tqdm\n"
     ]
    }
   ],
   "source": [
    "import os\n",
    "import time\n",
    "\n",
    "import numpy as np\n",
    "import pandas as pd\n",
    "from sklearn.metrics import f1_score, accuracy_score, confusion_matrix\n",
    "from sklearn.model_selection import train_test_split\n",
    "import torch\n",
    "import seaborn as sns\n",
    "import matplotlib.pyplot as plt\n",
    "\n",
    "# LightAutoML шаблоны пресетов для задач комп зрения\n",
    "from lightautoml.automl.presets.image_presets import TabularCVAutoML\n",
    "from lightautoml.tasks import Task"
   ]
  },
  {
   "cell_type": "code",
   "execution_count": 5,
   "metadata": {
    "execution": {
     "iopub.execute_input": "2022-07-05T14:51:52.670042Z",
     "iopub.status.busy": "2022-07-05T14:51:52.669639Z",
     "iopub.status.idle": "2022-07-05T14:51:52.694336Z",
     "shell.execute_reply": "2022-07-05T14:51:52.693519Z",
     "shell.execute_reply.started": "2022-07-05T14:51:52.670013Z"
    },
    "papermill": {
     "duration": 0.087268,
     "end_time": "2021-06-22T20:11:02.092497",
     "exception": false,
     "start_time": "2021-06-22T20:11:02.005229",
     "status": "completed"
    },
    "tags": []
   },
   "outputs": [],
   "source": [
    "np.random.seed(42)\n",
    "torch.set_num_threads(2)"
   ]
  },
  {
   "cell_type": "markdown",
   "metadata": {
    "papermill": {
     "duration": 0.072033,
     "end_time": "2021-06-22T20:11:02.238196",
     "exception": false,
     "start_time": "2021-06-22T20:11:02.166163",
     "status": "completed"
    },
    "tags": []
   },
   "source": [
    "### Загрузка данных"
   ]
  },
  {
   "cell_type": "code",
   "execution_count": 6,
   "metadata": {},
   "outputs": [],
   "source": [
    "train = pd.read_csv('data/train.csv')"
   ]
  },
  {
   "cell_type": "code",
   "execution_count": 7,
   "metadata": {},
   "outputs": [
    {
     "data": {
      "text/html": [
       "<div>\n",
       "<style scoped>\n",
       "    .dataframe tbody tr th:only-of-type {\n",
       "        vertical-align: middle;\n",
       "    }\n",
       "\n",
       "    .dataframe tbody tr th {\n",
       "        vertical-align: top;\n",
       "    }\n",
       "\n",
       "    .dataframe thead th {\n",
       "        text-align: right;\n",
       "    }\n",
       "</style>\n",
       "<table border=\"1\" class=\"dataframe\">\n",
       "  <thead>\n",
       "    <tr style=\"text-align: right;\">\n",
       "      <th></th>\n",
       "      <th>img_path</th>\n",
       "      <th>label</th>\n",
       "      <th>type</th>\n",
       "    </tr>\n",
       "  </thead>\n",
       "  <tbody>\n",
       "    <tr>\n",
       "      <th>0</th>\n",
       "      <td>train_data/1.png</td>\n",
       "      <td>3</td>\n",
       "      <td>1</td>\n",
       "    </tr>\n",
       "    <tr>\n",
       "      <th>1</th>\n",
       "      <td>train_data/2.png</td>\n",
       "      <td>7</td>\n",
       "      <td>3</td>\n",
       "    </tr>\n",
       "    <tr>\n",
       "      <th>2</th>\n",
       "      <td>train_data/3.png</td>\n",
       "      <td>9</td>\n",
       "      <td>2</td>\n",
       "    </tr>\n",
       "    <tr>\n",
       "      <th>3</th>\n",
       "      <td>train_data/4.png</td>\n",
       "      <td>9</td>\n",
       "      <td>1</td>\n",
       "    </tr>\n",
       "    <tr>\n",
       "      <th>4</th>\n",
       "      <td>train_data/5.png</td>\n",
       "      <td>10</td>\n",
       "      <td>1</td>\n",
       "    </tr>\n",
       "  </tbody>\n",
       "</table>\n",
       "</div>"
      ],
      "text/plain": [
       "           img_path  label  type\n",
       "0  train_data/1.png      3     1\n",
       "1  train_data/2.png      7     3\n",
       "2  train_data/3.png      9     2\n",
       "3  train_data/4.png      9     1\n",
       "4  train_data/5.png     10     1"
      ]
     },
     "execution_count": 7,
     "metadata": {},
     "output_type": "execute_result"
    }
   ],
   "source": [
    "train.head()"
   ]
  },
  {
   "cell_type": "code",
   "execution_count": 8,
   "metadata": {},
   "outputs": [],
   "source": [
    "# добавим полный относительный путь до картинок из train\n",
    "# в качестве новой колонки\n",
    "path_to_dataset_train = 'data'\n",
    "train['path'] =  path_to_dataset_train + '/' + train['img_path']"
   ]
  },
  {
   "cell_type": "code",
   "execution_count": 9,
   "metadata": {},
   "outputs": [],
   "source": [
    "# колонка с имена картинок больше не нужна\n",
    "train.drop(columns=['img_path'], inplace=True)"
   ]
  },
  {
   "cell_type": "code",
   "execution_count": 10,
   "metadata": {},
   "outputs": [
    {
     "data": {
      "text/html": [
       "<div>\n",
       "<style scoped>\n",
       "    .dataframe tbody tr th:only-of-type {\n",
       "        vertical-align: middle;\n",
       "    }\n",
       "\n",
       "    .dataframe tbody tr th {\n",
       "        vertical-align: top;\n",
       "    }\n",
       "\n",
       "    .dataframe thead th {\n",
       "        text-align: right;\n",
       "    }\n",
       "</style>\n",
       "<table border=\"1\" class=\"dataframe\">\n",
       "  <thead>\n",
       "    <tr style=\"text-align: right;\">\n",
       "      <th></th>\n",
       "      <th>label</th>\n",
       "      <th>type</th>\n",
       "      <th>path</th>\n",
       "    </tr>\n",
       "  </thead>\n",
       "  <tbody>\n",
       "    <tr>\n",
       "      <th>0</th>\n",
       "      <td>3</td>\n",
       "      <td>1</td>\n",
       "      <td>data/train_data/1.png</td>\n",
       "    </tr>\n",
       "    <tr>\n",
       "      <th>1</th>\n",
       "      <td>7</td>\n",
       "      <td>3</td>\n",
       "      <td>data/train_data/2.png</td>\n",
       "    </tr>\n",
       "    <tr>\n",
       "      <th>2</th>\n",
       "      <td>9</td>\n",
       "      <td>2</td>\n",
       "      <td>data/train_data/3.png</td>\n",
       "    </tr>\n",
       "    <tr>\n",
       "      <th>3</th>\n",
       "      <td>9</td>\n",
       "      <td>1</td>\n",
       "      <td>data/train_data/4.png</td>\n",
       "    </tr>\n",
       "    <tr>\n",
       "      <th>4</th>\n",
       "      <td>10</td>\n",
       "      <td>1</td>\n",
       "      <td>data/train_data/5.png</td>\n",
       "    </tr>\n",
       "  </tbody>\n",
       "</table>\n",
       "</div>"
      ],
      "text/plain": [
       "   label  type                   path\n",
       "0      3     1  data/train_data/1.png\n",
       "1      7     3  data/train_data/2.png\n",
       "2      9     2  data/train_data/3.png\n",
       "3      9     1  data/train_data/4.png\n",
       "4     10     1  data/train_data/5.png"
      ]
     },
     "execution_count": 10,
     "metadata": {},
     "output_type": "execute_result"
    }
   ],
   "source": [
    "train.head()"
   ]
  },
  {
   "cell_type": "code",
   "execution_count": 11,
   "metadata": {},
   "outputs": [
    {
     "data": {
      "text/plain": [
       "(array([1, 2, 3]), array([1000, 1000, 1000]))"
      ]
     },
     "execution_count": 11,
     "metadata": {},
     "output_type": "execute_result"
    }
   ],
   "source": [
    "# посмотрим на типы картинок и их количество\n",
    "np.unique(train['type'].to_numpy(), return_counts=True)"
   ]
  },
  {
   "cell_type": "markdown",
   "metadata": {
    "papermill": {
     "duration": 0.071526,
     "end_time": "2021-06-22T20:11:22.853156",
     "exception": false,
     "start_time": "2021-06-22T20:11:22.78163",
     "status": "completed"
    },
    "tags": []
   },
   "source": [
    "# Ставим задачу"
   ]
  },
  {
   "cell_type": "code",
   "execution_count": 66,
   "metadata": {},
   "outputs": [
    {
     "data": {
      "text/html": [
       "<div>\n",
       "<style scoped>\n",
       "    .dataframe tbody tr th:only-of-type {\n",
       "        vertical-align: middle;\n",
       "    }\n",
       "\n",
       "    .dataframe tbody tr th {\n",
       "        vertical-align: top;\n",
       "    }\n",
       "\n",
       "    .dataframe thead th {\n",
       "        text-align: right;\n",
       "    }\n",
       "</style>\n",
       "<table border=\"1\" class=\"dataframe\">\n",
       "  <thead>\n",
       "    <tr style=\"text-align: right;\">\n",
       "      <th></th>\n",
       "      <th>label</th>\n",
       "      <th>type</th>\n",
       "      <th>path</th>\n",
       "    </tr>\n",
       "  </thead>\n",
       "  <tbody>\n",
       "    <tr>\n",
       "      <th>1</th>\n",
       "      <td>7</td>\n",
       "      <td>3</td>\n",
       "      <td>data/train_data/2.png</td>\n",
       "    </tr>\n",
       "    <tr>\n",
       "      <th>5</th>\n",
       "      <td>8</td>\n",
       "      <td>3</td>\n",
       "      <td>data/train_data/6.png</td>\n",
       "    </tr>\n",
       "    <tr>\n",
       "      <th>6</th>\n",
       "      <td>2</td>\n",
       "      <td>3</td>\n",
       "      <td>data/train_data/7.png</td>\n",
       "    </tr>\n",
       "    <tr>\n",
       "      <th>9</th>\n",
       "      <td>4</td>\n",
       "      <td>3</td>\n",
       "      <td>data/train_data/10.png</td>\n",
       "    </tr>\n",
       "    <tr>\n",
       "      <th>10</th>\n",
       "      <td>8</td>\n",
       "      <td>3</td>\n",
       "      <td>data/train_data/11.png</td>\n",
       "    </tr>\n",
       "    <tr>\n",
       "      <th>...</th>\n",
       "      <td>...</td>\n",
       "      <td>...</td>\n",
       "      <td>...</td>\n",
       "    </tr>\n",
       "    <tr>\n",
       "      <th>2977</th>\n",
       "      <td>9</td>\n",
       "      <td>3</td>\n",
       "      <td>data/train_data/2978.png</td>\n",
       "    </tr>\n",
       "    <tr>\n",
       "      <th>2979</th>\n",
       "      <td>2</td>\n",
       "      <td>3</td>\n",
       "      <td>data/train_data/2980.png</td>\n",
       "    </tr>\n",
       "    <tr>\n",
       "      <th>2986</th>\n",
       "      <td>3</td>\n",
       "      <td>3</td>\n",
       "      <td>data/train_data/2987.png</td>\n",
       "    </tr>\n",
       "    <tr>\n",
       "      <th>2989</th>\n",
       "      <td>7</td>\n",
       "      <td>3</td>\n",
       "      <td>data/train_data/2990.png</td>\n",
       "    </tr>\n",
       "    <tr>\n",
       "      <th>2998</th>\n",
       "      <td>7</td>\n",
       "      <td>3</td>\n",
       "      <td>data/train_data/2999.png</td>\n",
       "    </tr>\n",
       "  </tbody>\n",
       "</table>\n",
       "<p>1000 rows × 3 columns</p>\n",
       "</div>"
      ],
      "text/plain": [
       "      label  type                      path\n",
       "1         7     3     data/train_data/2.png\n",
       "5         8     3     data/train_data/6.png\n",
       "6         2     3     data/train_data/7.png\n",
       "9         4     3    data/train_data/10.png\n",
       "10        8     3    data/train_data/11.png\n",
       "...     ...   ...                       ...\n",
       "2977      9     3  data/train_data/2978.png\n",
       "2979      2     3  data/train_data/2980.png\n",
       "2986      3     3  data/train_data/2987.png\n",
       "2989      7     3  data/train_data/2990.png\n",
       "2998      7     3  data/train_data/2999.png\n",
       "\n",
       "[1000 rows x 3 columns]"
      ]
     },
     "execution_count": 66,
     "metadata": {},
     "output_type": "execute_result"
    }
   ],
   "source": [
    "train_1 = train[train['type']==3]\n",
    "train_1"
   ]
  },
  {
   "cell_type": "code",
   "execution_count": 67,
   "metadata": {
    "execution": {
     "iopub.execute_input": "2022-07-05T15:03:11.435456Z",
     "iopub.status.busy": "2022-07-05T15:03:11.435099Z",
     "iopub.status.idle": "2022-07-05T15:03:11.443489Z",
     "shell.execute_reply": "2022-07-05T15:03:11.442495Z",
     "shell.execute_reply.started": "2022-07-05T15:03:11.435426Z"
    },
    "papermill": {
     "duration": 0.086442,
     "end_time": "2021-06-22T20:11:23.010643",
     "exception": false,
     "start_time": "2021-06-22T20:11:22.924201",
     "status": "completed"
    },
    "tags": []
   },
   "outputs": [],
   "source": [
    "# у нас задача регрессии, ставим метрику и лосс согласно условиям\n",
    "# соревнования\n",
    "task = Task('reg', loss='mse', metric='mse')"
   ]
  },
  {
   "cell_type": "code",
   "execution_count": 68,
   "metadata": {
    "execution": {
     "iopub.execute_input": "2022-07-05T15:04:51.585907Z",
     "iopub.status.busy": "2022-07-05T15:04:51.585493Z",
     "iopub.status.idle": "2022-07-05T15:04:51.590716Z",
     "shell.execute_reply": "2022-07-05T15:04:51.589789Z",
     "shell.execute_reply.started": "2022-07-05T15:04:51.585872Z"
    },
    "papermill": {
     "duration": 0.07715,
     "end_time": "2021-06-22T20:11:23.43883",
     "exception": false,
     "start_time": "2021-06-22T20:11:23.36168",
     "status": "completed"
    },
    "tags": []
   },
   "outputs": [],
   "source": [
    "# целевая переменная для регрессии это\n",
    "# переменная пути для картинок в столбце path\n",
    "roles = {'target': 'label',\n",
    "         'path' : ['path'],\n",
    "         'drop' : ['type']\n",
    "         }"
   ]
  },
  {
   "cell_type": "code",
   "execution_count": 69,
   "metadata": {},
   "outputs": [],
   "source": [
    "automl = TabularCVAutoML(task=task,\n",
    "                         timeout=5 * 3600,\n",
    "                         reader_params={'cv': 5, 'random_state': 42})\n"
   ]
  },
  {
   "cell_type": "markdown",
   "metadata": {},
   "source": [
    "# Обучение модели по кросс валидации по всей выборке"
   ]
  },
  {
   "cell_type": "code",
   "execution_count": 70,
   "metadata": {
    "execution": {
     "iopub.execute_input": "2022-07-05T15:26:18.568874Z",
     "iopub.status.busy": "2022-07-05T15:26:18.568501Z",
     "iopub.status.idle": "2022-07-05T15:26:18.608695Z",
     "shell.execute_reply": "2022-07-05T15:26:18.607791Z",
     "shell.execute_reply.started": "2022-07-05T15:26:18.568842Z"
    },
    "scrolled": false
   },
   "outputs": [
    {
     "name": "stdout",
     "output_type": "stream",
     "text": [
      "[17:07:45] Stdout logging level is DEBUG.\n",
      "[17:07:45] Task: reg\n",
      "\n",
      "[17:07:45] Start automl preset with listed constraints:\n",
      "[17:07:45] - time: 18000.00 seconds\n",
      "[17:07:45] - CPU: 4 cores\n",
      "[17:07:45] - memory: 16 GB\n",
      "\n",
      "[17:07:45] \u001b[1mTrain data shape: (1000, 3)\u001b[0m\n",
      "\n",
      "[17:07:45] Layer \u001b[1m1\u001b[0m train process start. Time left 18000.00 secs\n",
      "Loaded pretrained weights for efficientnet-b0\n"
     ]
    },
    {
     "name": "stderr",
     "output_type": "stream",
     "text": [
      "100%|██████████| 8/8 [00:01<00:00,  7.15it/s]"
     ]
    },
    {
     "name": "stdout",
     "output_type": "stream",
     "text": [
      "[17:07:46] Feature path transformed\n",
      "[17:07:46] Start fitting \u001b[1mLvl_0_Pipe_0_Mod_0_LinearL2\u001b[0m ...\n",
      "[17:07:46] Training params: {'tol': 1e-06, 'max_iter': 100, 'cs': [1e-05, 5e-05, 0.0001, 0.0005, 0.001, 0.005, 0.01, 0.05, 0.1, 0.5, 1, 5, 10, 50, 100, 500, 1000, 5000, 10000, 50000, 100000], 'early_stopping': 2, 'categorical_idx': [], 'embed_sizes': (), 'data_size': 1280}\n",
      "[17:07:46] ===== Start working with \u001b[1mfold 0\u001b[0m for \u001b[1mLvl_0_Pipe_0_Mod_0_LinearL2\u001b[0m =====\n",
      "[17:07:46] Linear model: C = 1e-05 score = -3.290336355995413\n",
      "[17:07:46] Linear model: C = 5e-05 score = -2.5813180813072107\n",
      "[17:07:46] Linear model: C = 0.0001 score = -2.3822547395567812\n"
     ]
    },
    {
     "name": "stderr",
     "output_type": "stream",
     "text": [
      "\n"
     ]
    },
    {
     "name": "stdout",
     "output_type": "stream",
     "text": [
      "[17:07:46] Linear model: C = 0.0005 score = -2.2351748387457704\n",
      "[17:07:46] Linear model: C = 0.001 score = -2.340700139572909\n",
      "[17:07:46] Linear model: C = 0.005 score = -3.054425458014818\n",
      "[17:07:46] ===== Start working with \u001b[1mfold 1\u001b[0m for \u001b[1mLvl_0_Pipe_0_Mod_0_LinearL2\u001b[0m =====\n",
      "[17:07:46] Linear model: C = 1e-05 score = -2.7223083745390766\n",
      "[17:07:46] Linear model: C = 5e-05 score = -2.102641636078068\n",
      "[17:07:46] Linear model: C = 0.0001 score = -1.9351973063468333\n",
      "[17:07:46] Linear model: C = 0.0005 score = -1.7734686012504381\n",
      "[17:07:46] Linear model: C = 0.001 score = -1.88532677609632\n",
      "[17:07:47] Linear model: C = 0.005 score = -2.7145224444802922\n",
      "[17:07:47] ===== Start working with \u001b[1mfold 2\u001b[0m for \u001b[1mLvl_0_Pipe_0_Mod_0_LinearL2\u001b[0m =====\n",
      "[17:07:47] Linear model: C = 1e-05 score = -3.451708162097558\n",
      "[17:07:47] Linear model: C = 5e-05 score = -2.747778888255939\n",
      "[17:07:47] Linear model: C = 0.0001 score = -2.552185035404095\n",
      "[17:07:47] Linear model: C = 0.0005 score = -2.338828990753453\n",
      "[17:07:47] Linear model: C = 0.001 score = -2.3895509920966025\n",
      "[17:07:47] Linear model: C = 0.005 score = -2.9647456427373866\n",
      "[17:07:47] ===== Start working with \u001b[1mfold 3\u001b[0m for \u001b[1mLvl_0_Pipe_0_Mod_0_LinearL2\u001b[0m =====\n",
      "[17:07:47] Linear model: C = 1e-05 score = -3.673320985496257\n",
      "[17:07:47] Linear model: C = 5e-05 score = -2.9317212918217086\n",
      "[17:07:47] Linear model: C = 0.0001 score = -2.6789766197280303\n",
      "[17:07:47] Linear model: C = 0.0005 score = -2.388024753497173\n",
      "[17:07:47] Linear model: C = 0.001 score = -2.438853629443049\n",
      "[17:07:47] Linear model: C = 0.005 score = -3.042358483015953\n",
      "[17:07:47] ===== Start working with \u001b[1mfold 4\u001b[0m for \u001b[1mLvl_0_Pipe_0_Mod_0_LinearL2\u001b[0m =====\n",
      "[17:07:47] Linear model: C = 1e-05 score = -3.4853925116513254\n",
      "[17:07:47] Linear model: C = 5e-05 score = -2.7870155223479696\n",
      "[17:07:47] Linear model: C = 0.0001 score = -2.570515857376912\n",
      "[17:07:47] Linear model: C = 0.0005 score = -2.2900931413582737\n",
      "[17:07:47] Linear model: C = 0.001 score = -2.30577639664601\n",
      "[17:07:47] Linear model: C = 0.005 score = -2.76916750891762\n",
      "[17:07:47] Fitting \u001b[1mLvl_0_Pipe_0_Mod_0_LinearL2\u001b[0m finished. score = \u001b[1m-2.2051180651210216\u001b[0m\n",
      "[17:07:47] \u001b[1mLvl_0_Pipe_0_Mod_0_LinearL2\u001b[0m fitting and predicting completed\n",
      "[17:07:47] Time left 17997.96 secs\n",
      "\n",
      "[17:07:48] Start fitting \u001b[1mLvl_0_Pipe_1_Mod_0_CatBoost\u001b[0m ...\n",
      "[17:07:48] Training params: {'task_type': 'GPU', 'thread_count': 4, 'random_seed': 42, 'num_trees': 2000, 'learning_rate': 0.05, 'l2_leaf_reg': 0.01, 'bootstrap_type': 'Bernoulli', 'grow_policy': 'SymmetricTree', 'max_depth': 5, 'min_data_in_leaf': 1, 'one_hot_max_size': 10, 'fold_permutation_block': 1, 'boosting_type': 'Plain', 'boost_from_average': True, 'od_type': 'Iter', 'od_wait': 300, 'max_bin': 32, 'feature_border_type': 'GreedyLogSum', 'nan_mode': 'Min', 'verbose': 100, 'allow_writing_files': False, 'devices': '0'}\n",
      "[17:07:48] ===== Start working with \u001b[1mfold 0\u001b[0m for \u001b[1mLvl_0_Pipe_1_Mod_0_CatBoost\u001b[0m =====\n",
      "[17:07:48] 0:\tlearn: 2.8718531\ttest: 2.7695212\tbest: 2.7695212 (0)\ttotal: 1.49ms\tremaining: 2.97s\n",
      "[17:07:48] 100:\tlearn: 1.5337622\ttest: 1.9775757\tbest: 1.9775757 (100)\ttotal: 98.3ms\tremaining: 1.85s\n"
     ]
    },
    {
     "name": "stderr",
     "output_type": "stream",
     "text": [
      "Warning: less than 75% gpu memory available for training. Free: 12602.9375 Total: 24111.5625\n"
     ]
    },
    {
     "name": "stdout",
     "output_type": "stream",
     "text": [
      "[17:07:48] 200:\tlearn: 1.1387606\ttest: 1.9424722\tbest: 1.9424722 (200)\ttotal: 195ms\tremaining: 1.74s\n",
      "[17:07:48] 300:\tlearn: 0.8708839\ttest: 1.9461138\tbest: 1.9388665 (214)\ttotal: 293ms\tremaining: 1.66s\n",
      "[17:07:48] 400:\tlearn: 0.6772107\ttest: 1.9459783\tbest: 1.9388665 (214)\ttotal: 392ms\tremaining: 1.56s\n",
      "[17:07:49] 500:\tlearn: 0.5279546\ttest: 1.9486804\tbest: 1.9388665 (214)\ttotal: 489ms\tremaining: 1.46s\n",
      "[17:07:49] bestTest = 1.938866469\n",
      "[17:07:49] bestIteration = 214\n",
      "[17:07:49] Shrink model to first 215 iterations.\n",
      "[17:07:49] ===== Start working with \u001b[1mfold 1\u001b[0m for \u001b[1mLvl_0_Pipe_1_Mod_0_CatBoost\u001b[0m =====\n"
     ]
    },
    {
     "name": "stderr",
     "output_type": "stream",
     "text": [
      "Warning: less than 75% gpu memory available for training. Free: 12602.9375 Total: 24111.5625\n"
     ]
    },
    {
     "name": "stdout",
     "output_type": "stream",
     "text": [
      "[17:07:49] 0:\tlearn: 2.8407705\ttest: 2.8971030\tbest: 2.8971030 (0)\ttotal: 1.36ms\tremaining: 2.73s\n",
      "[17:07:49] 100:\tlearn: 1.5454810\ttest: 1.8191899\tbest: 1.8191899 (100)\ttotal: 98.9ms\tremaining: 1.86s\n",
      "[17:07:49] 200:\tlearn: 1.1413926\ttest: 1.7539781\tbest: 1.7538285 (195)\ttotal: 196ms\tremaining: 1.76s\n",
      "[17:07:49] 300:\tlearn: 0.8589727\ttest: 1.7588082\tbest: 1.7486629 (244)\ttotal: 295ms\tremaining: 1.66s\n",
      "[17:07:49] 400:\tlearn: 0.6568455\ttest: 1.7716631\tbest: 1.7486629 (244)\ttotal: 393ms\tremaining: 1.56s\n",
      "[17:07:49] 500:\tlearn: 0.5104007\ttest: 1.7784977\tbest: 1.7486629 (244)\ttotal: 491ms\tremaining: 1.47s\n",
      "[17:07:49] bestTest = 1.748662906\n",
      "[17:07:49] bestIteration = 244\n",
      "[17:07:49] Shrink model to first 245 iterations.\n",
      "[17:07:49] ===== Start working with \u001b[1mfold 2\u001b[0m for \u001b[1mLvl_0_Pipe_1_Mod_0_CatBoost\u001b[0m =====\n"
     ]
    },
    {
     "name": "stderr",
     "output_type": "stream",
     "text": [
      "Warning: less than 75% gpu memory available for training. Free: 12602.9375 Total: 24111.5625\n"
     ]
    },
    {
     "name": "stdout",
     "output_type": "stream",
     "text": [
      "[17:07:50] 0:\tlearn: 2.8460079\ttest: 2.8769214\tbest: 2.8769214 (0)\ttotal: 1.31ms\tremaining: 2.63s\n",
      "[17:07:50] 100:\tlearn: 1.4904968\ttest: 2.1233118\tbest: 2.1231674 (99)\ttotal: 99.1ms\tremaining: 1.86s\n",
      "[17:07:50] 200:\tlearn: 1.1045177\ttest: 2.0984695\tbest: 2.0973912 (196)\ttotal: 197ms\tremaining: 1.76s\n",
      "[17:07:50] 300:\tlearn: 0.8352560\ttest: 2.0932681\tbest: 2.0900043 (286)\ttotal: 296ms\tremaining: 1.67s\n",
      "[17:07:50] 400:\tlearn: 0.6437063\ttest: 2.0935327\tbest: 2.0889738 (334)\ttotal: 394ms\tremaining: 1.57s\n",
      "[17:07:50] 500:\tlearn: 0.5052103\ttest: 2.0882093\tbest: 2.0876403 (497)\ttotal: 491ms\tremaining: 1.47s\n",
      "[17:07:50] 600:\tlearn: 0.3959530\ttest: 2.0843268\tbest: 2.0835877 (595)\ttotal: 590ms\tremaining: 1.37s\n",
      "[17:07:50] 700:\tlearn: 0.3127334\ttest: 2.0833182\tbest: 2.0827855 (630)\ttotal: 690ms\tremaining: 1.28s\n",
      "[17:07:51] 800:\tlearn: 0.2561483\ttest: 2.0816310\tbest: 2.0799939 (780)\ttotal: 788ms\tremaining: 1.18s\n",
      "[17:07:51] 900:\tlearn: 0.2048125\ttest: 2.0806922\tbest: 2.0799939 (780)\ttotal: 886ms\tremaining: 1.08s\n",
      "[17:07:51] 1000:\tlearn: 0.1650476\ttest: 2.0814598\tbest: 2.0799939 (780)\ttotal: 985ms\tremaining: 983ms\n",
      "[17:07:51] bestTest = 2.079993873\n",
      "[17:07:51] bestIteration = 780\n",
      "[17:07:51] Shrink model to first 781 iterations.\n",
      "[17:07:51] ===== Start working with \u001b[1mfold 3\u001b[0m for \u001b[1mLvl_0_Pipe_1_Mod_0_CatBoost\u001b[0m =====\n"
     ]
    },
    {
     "name": "stderr",
     "output_type": "stream",
     "text": [
      "Warning: less than 75% gpu memory available for training. Free: 12602.9375 Total: 24111.5625\n"
     ]
    },
    {
     "name": "stdout",
     "output_type": "stream",
     "text": [
      "[17:07:51] 0:\tlearn: 2.8511823\ttest: 2.8705065\tbest: 2.8705065 (0)\ttotal: 1.43ms\tremaining: 2.86s\n",
      "[17:07:51] 100:\tlearn: 1.5442136\ttest: 1.8975697\tbest: 1.8975697 (100)\ttotal: 97.9ms\tremaining: 1.84s\n",
      "[17:07:51] 200:\tlearn: 1.1488384\ttest: 1.8539256\tbest: 1.8539256 (200)\ttotal: 195ms\tremaining: 1.74s\n",
      "[17:07:52] 300:\tlearn: 0.8631894\ttest: 1.8494197\tbest: 1.8416669 (270)\ttotal: 292ms\tremaining: 1.65s\n",
      "[17:07:52] 400:\tlearn: 0.6709192\ttest: 1.8492551\tbest: 1.8416669 (270)\ttotal: 389ms\tremaining: 1.55s\n",
      "[17:07:52] 500:\tlearn: 0.5263903\ttest: 1.8535426\tbest: 1.8416669 (270)\ttotal: 486ms\tremaining: 1.46s\n",
      "[17:07:52] bestTest = 1.841666924\n",
      "[17:07:52] bestIteration = 270\n",
      "[17:07:52] Shrink model to first 271 iterations.\n",
      "[17:07:52] ===== Start working with \u001b[1mfold 4\u001b[0m for \u001b[1mLvl_0_Pipe_1_Mod_0_CatBoost\u001b[0m =====\n"
     ]
    },
    {
     "name": "stderr",
     "output_type": "stream",
     "text": [
      "Warning: less than 75% gpu memory available for training. Free: 12602.9375 Total: 24111.5625\n"
     ]
    },
    {
     "name": "stdout",
     "output_type": "stream",
     "text": [
      "[17:07:52] 0:\tlearn: 2.8442878\ttest: 2.8909451\tbest: 2.8909451 (0)\ttotal: 1.35ms\tremaining: 2.71s\n",
      "[17:07:52] 100:\tlearn: 1.4900727\ttest: 2.0934621\tbest: 2.0892267 (95)\ttotal: 98.6ms\tremaining: 1.85s\n",
      "[17:07:52] 200:\tlearn: 1.0965599\ttest: 2.0432992\tbest: 2.0369077 (191)\ttotal: 197ms\tremaining: 1.76s\n",
      "[17:07:52] 300:\tlearn: 0.8301084\ttest: 2.0207028\tbest: 2.0207028 (300)\ttotal: 294ms\tremaining: 1.66s\n",
      "[17:07:53] 400:\tlearn: 0.6419379\ttest: 2.0075994\tbest: 2.0069949 (392)\ttotal: 392ms\tremaining: 1.56s\n",
      "[17:07:53] 500:\tlearn: 0.5046097\ttest: 2.0145593\tbest: 2.0068225 (401)\ttotal: 489ms\tremaining: 1.46s\n",
      "[17:07:53] 600:\tlearn: 0.4029887\ttest: 2.0251918\tbest: 2.0068225 (401)\ttotal: 587ms\tremaining: 1.37s\n",
      "[17:07:53] 700:\tlearn: 0.3231427\ttest: 2.0255083\tbest: 2.0068225 (401)\ttotal: 684ms\tremaining: 1.27s\n",
      "[17:07:53] bestTest = 2.006822546\n",
      "[17:07:53] bestIteration = 401\n",
      "[17:07:53] Shrink model to first 402 iterations.\n",
      "[17:07:53] Fitting \u001b[1mLvl_0_Pipe_1_Mod_0_CatBoost\u001b[0m finished. score = \u001b[1m-3.712494551874357\u001b[0m\n",
      "[17:07:53] \u001b[1mLvl_0_Pipe_1_Mod_0_CatBoost\u001b[0m fitting and predicting completed\n",
      "[17:07:53] Time left 17992.09 secs\n",
      "\n",
      "[17:07:53] \u001b[1mLayer 1 training completed.\u001b[0m\n",
      "\n",
      "[17:07:53] Blending: optimization starts with equal weights and score \u001b[1m-2.3505609293648138\u001b[0m\n",
      "[17:07:53] Blending: iteration \u001b[1m0\u001b[0m: score = \u001b[1m-2.1170836277245817\u001b[0m, weights = \u001b[1m[0.8097797  0.19022028]\u001b[0m\n",
      "[17:07:53] Blending: iteration \u001b[1m1\u001b[0m: score = \u001b[1m-2.1170836277245817\u001b[0m, weights = \u001b[1m[0.8097797  0.19022028]\u001b[0m\n",
      "[17:07:53] Blending: no score update. Terminated\n",
      "\n",
      "[17:07:53] \u001b[1mAutoml preset training completed in 7.92 seconds\u001b[0m\n",
      "\n",
      "[17:07:53] Model description:\n",
      "Final prediction for new objects (level 0) = \n",
      "\t 0.80978 * (5 averaged models Lvl_0_Pipe_0_Mod_0_LinearL2) +\n",
      "\t 0.19022 * (5 averaged models Lvl_0_Pipe_1_Mod_0_CatBoost) \n",
      "\n",
      "CPU times: user 9.67 s, sys: 2.21 s, total: 11.9 s\n",
      "Wall time: 7.93 s\n"
     ]
    }
   ],
   "source": [
    "%%time \n",
    "# будет использовано 5 фолдов кросс валидации\n",
    "# для извлечения признаков с картинок будет использована нейросеть EfficientNet b0\n",
    "# после извлечения числовых признаков нейросетью на них будут учится стандартные модели\n",
    "#  линейная регрессия и градиентный бустинг\n",
    "oof_pred = automl.fit_predict(train_1, roles = roles, verbose = 4)"
   ]
  },
  {
   "cell_type": "code",
   "execution_count": 71,
   "metadata": {},
   "outputs": [
    {
     "data": {
      "text/plain": [
       "array([ 7.664083  ,  7.7440004 ,  2.3713226 ,  3.9459362 ,  6.910086  ,\n",
       "        0.40639082,  4.493323  ,  3.3295693 ,  3.1708148 ,  3.1915648 ,\n",
       "        5.547356  ,  2.592135  ,  4.403446  ,  3.739616  ,  3.1468477 ,\n",
       "        7.621834  ,  1.4863486 ,  7.112201  ,  7.1521473 ,  6.520759  ,\n",
       "        7.8669033 ,  7.055056  ,  5.659479  ,  3.286253  ,  8.055955  ,\n",
       "        4.3486867 ,  6.7009993 ,  7.1216116 ,  6.8271832 ,  1.5341389 ,\n",
       "        3.1701941 ,  3.1913252 ,  1.6448872 ,  6.114487  ,  4.1095915 ,\n",
       "        5.250565  ,  7.817989  ,  1.5435674 ,  3.4862387 ,  0.4698999 ,\n",
       "        5.531953  , -0.77084833,  4.252273  ,  8.381791  ,  2.732373  ,\n",
       "        5.9609213 ,  5.051256  ,  6.7544384 ,  3.5900254 ,  3.0431666 ,\n",
       "        6.5449176 ,  6.5057974 ,  3.6035314 ,  2.4260147 ,  7.672275  ,\n",
       "        2.6026525 ,  3.0143373 ,  4.03655   ,  9.058183  ,  3.7983487 ,\n",
       "        0.9272416 ,  8.509907  ,  6.8172045 ,  4.276464  ,  3.891029  ,\n",
       "        0.0423829 , -0.07931858,  1.7261205 ,  8.535132  ,  7.4720497 ,\n",
       "        4.04624   ,  2.2774746 ,  5.6346903 ,  4.538712  ,  0.8798943 ,\n",
       "        6.2365146 ,  5.40633   ,  8.107373  ,  3.2970035 ,  2.0745366 ,\n",
       "        7.3095307 ,  6.543022  ,  3.5506253 ,  2.7557447 ,  2.4862676 ,\n",
       "        6.869629  ,  1.3773696 ,  7.820716  ,  6.4914584 ,  1.7709727 ,\n",
       "        6.116394  ,  6.718508  ,  6.389302  ,  7.6990767 ,  6.3681803 ,\n",
       "        7.8385696 ,  7.4302897 ,  3.11719   ,  6.2055836 ,  1.2478018 ,\n",
       "        8.663142  ,  8.850551  ,  4.492589  ,  7.217586  ,  4.0797477 ,\n",
       "        3.8488204 ,  4.3596253 ,  6.7131233 ,  7.136123  ,  2.3210294 ,\n",
       "        4.183769  ,  3.587286  ,  5.792058  ,  8.031818  ,  6.120944  ,\n",
       "        3.7813168 ,  6.3480897 ,  5.578457  ,  8.075174  ,  3.5478494 ,\n",
       "        7.530579  ,  5.9767385 ,  8.217663  ,  3.2322502 ,  4.1073995 ,\n",
       "        3.451617  ,  5.630618  ,  3.0124223 ,  3.512514  ,  1.2946011 ,\n",
       "        8.163592  ,  7.477295  ,  6.3717213 ,  7.0218654 ,  4.493418  ,\n",
       "        3.7873561 ,  7.453729  ,  3.5602064 ,  6.6649857 ,  4.4835505 ,\n",
       "        3.4640753 ,  4.215506  ,  6.868096  ,  9.091342  ,  6.8314686 ,\n",
       "        7.3840647 ,  5.440754  ,  3.63345   ,  7.5502462 ,  3.20064   ,\n",
       "        5.8672013 ,  9.24723   ,  3.7066584 ,  2.134837  ,  7.1792603 ,\n",
       "        6.2203693 ,  8.868614  ,  3.527138  ,  4.425633  ,  6.930764  ,\n",
       "        2.7115698 ,  9.659301  ,  5.9160814 ,  1.6226919 ,  5.395034  ,\n",
       "        2.8781261 ,  1.8131871 ,  6.4198465 ,  4.9407907 ,  8.053803  ,\n",
       "        6.045881  ,  6.808297  ,  1.6870749 ,  8.794092  ,  7.958971  ,\n",
       "        5.488663  ,  5.3504148 ,  6.2100425 ,  5.206238  ,  0.8931051 ,\n",
       "        1.298572  ,  6.84095   ,  4.713257  ,  1.4319211 ,  6.07238   ,\n",
       "        4.783035  ,  4.822967  ,  7.3954053 ,  5.6774154 ,  7.381633  ,\n",
       "        5.7577524 ,  5.8893995 ,  6.091585  ,  5.158152  ,  3.8512483 ,\n",
       "        2.7069793 ,  2.9954135 ,  5.149558  ,  5.4600496 ,  2.9025624 ,\n",
       "        4.0312886 ,  1.7185085 ,  8.415867  ,  6.5211987 ,  2.7330034 ,\n",
       "        6.4600544 ,  2.552034  ,  3.4939914 ,  9.056183  ,  8.014047  ,\n",
       "        7.8763423 ,  4.869405  ,  7.897934  ,  3.667935  ,  2.8068612 ,\n",
       "        2.9411008 ,  5.890032  ,  5.7741327 ,  7.3263597 ,  4.9358125 ,\n",
       "        5.930334  ,  2.5482707 ,  4.48664   ,  1.017844  ,  9.5676565 ,\n",
       "        5.727363  ,  2.113058  ,  5.600802  ,  6.343171  ,  7.4376802 ,\n",
       "        3.9872935 ,  7.4201593 ,  8.621184  ,  6.272839  ,  5.7189484 ,\n",
       "        2.2833424 ,  3.2748122 ,  2.3265357 ,  7.0847774 ,  4.4048843 ,\n",
       "        1.0776218 ,  2.8728914 , 10.187616  ,  3.216649  ,  8.773929  ,\n",
       "        2.6235635 ,  4.9249716 ,  1.5646663 ,  8.103951  ,  0.42897952,\n",
       "        6.975525  ,  8.86976   ,  3.0936635 ,  2.876405  ,  8.07439   ,\n",
       "        4.8044267 ,  0.96642476,  2.086336  ,  0.634259  ,  5.8536987 ,\n",
       "        5.5233164 ,  8.085042  ,  7.5297375 ,  9.234965  ,  0.65131855,\n",
       "        2.1850529 ,  8.961979  ,  5.8064413 ,  1.5808617 ,  6.4083366 ,\n",
       "        6.4364834 ,  5.125975  ,  6.602603  ,  7.0332336 ,  1.8940566 ,\n",
       "        3.1666226 ,  4.12947   ,  3.3827682 ,  6.1165357 ,  6.0650725 ,\n",
       "        5.2135134 ,  3.7022161 ,  7.678315  ,  1.2969837 ,  1.0015156 ,\n",
       "        1.247282  ,  2.0273938 ,  3.1317794 ,  0.9276215 ,  7.326427  ,\n",
       "        3.898578  ,  1.719692  ,  6.9247303 ,  4.8370423 ,  4.145064  ,\n",
       "        6.4701786 ,  2.1267927 ,  4.923998  ,  7.712608  ,  3.5961144 ,\n",
       "        5.307827  ,  6.9385676 ,  0.11936742,  2.8154237 ,  7.46218   ,\n",
       "        4.058529  ,  0.87146026,  6.525231  ,  3.8019233 ,  2.0145476 ,\n",
       "        8.032963  ,  7.8541837 ,  7.8910313 ,  0.840574  ,  1.5590172 ,\n",
       "        6.185718  ,  5.7626643 ,  6.7230167 ,  6.306192  ,  2.704331  ,\n",
       "        6.043935  ,  5.006813  ,  4.715901  ,  7.667522  ,  6.9596868 ,\n",
       "        2.01134   ,  2.4346247 ,  7.123689  ,  2.7868705 ,  8.182735  ,\n",
       "        2.225422  ,  7.318865  ,  8.084131  ,  5.5981736 ,  2.4434645 ,\n",
       "        9.693935  ,  7.4720125 ,  3.4126017 ,  8.515595  ,  9.535357  ,\n",
       "        0.27483422,  7.0003605 ,  7.3779182 ,  2.3399124 ,  2.6018906 ,\n",
       "        7.7507496 ,  4.8600273 ,  4.4092736 ,  2.9921808 ,  1.2680236 ,\n",
       "        2.9659104 ,  1.6807041 ,  4.539994  ,  4.5679812 ,  6.8664455 ,\n",
       "        6.780924  ,  7.5624275 ,  6.7688823 ,  9.699875  ,  7.8748913 ,\n",
       "        5.809655  ,  2.1739054 ,  3.2676082 ,  7.130405  ,  3.046842  ,\n",
       "        3.5657706 ,  7.6041794 ,  6.390233  ,  4.0519605 ,  8.12944   ,\n",
       "        4.1899757 ,  2.0676594 ,  6.100338  ,  3.1584697 ,  1.5973049 ,\n",
       "        7.2194443 ,  7.555961  ,  3.1565206 ,  6.1116447 ,  5.5088243 ,\n",
       "        6.864895  ,  5.5505657 ,  5.5514627 ,  5.302308  ,  8.951631  ,\n",
       "        2.2073233 ,  2.0271478 ,  3.4108045 ,  8.751365  ,  3.677699  ,\n",
       "        6.0713916 ,  5.732472  ,  4.866947  ,  2.1445007 ,  1.7471501 ,\n",
       "        2.6419559 ,  8.228201  ,  8.608545  ,  6.9819374 ,  4.8528547 ,\n",
       "        8.749027  ,  1.4111129 ,  4.8602095 ,  6.991915  ,  6.7096267 ,\n",
       "        1.0348117 ,  3.2748213 ,  6.2539086 ,  6.836525  ,  7.524353  ,\n",
       "        8.305505  ,  7.304125  ,  6.7034044 ,  6.5645547 ,  0.2838052 ,\n",
       "        5.3144236 ,  9.484135  ,  3.4240494 ,  8.0197525 ,  8.399382  ,\n",
       "        8.957281  ,  7.8066444 ,  7.151767  ,  3.9754195 ,  7.7750278 ,\n",
       "        5.065349  ,  8.012693  ,  8.798448  ,  5.740541  ,  2.0421877 ,\n",
       "        3.1659803 ,  2.9946737 ,  5.5629916 ,  3.8430886 ,  6.5578012 ,\n",
       "        4.3557444 ,  2.903946  ,  6.084071  ,  1.6813734 ,  7.0486736 ,\n",
       "        7.9741726 ,  7.047977  ,  7.7673073 ,  5.8702364 ,  4.12393   ,\n",
       "        4.5918093 ,  0.4658844 ,  5.202026  ,  5.1862545 ,  1.7928692 ,\n",
       "        7.0608478 ,  3.0280855 ,  5.867333  ,  4.4479017 ,  8.658543  ,\n",
       "        7.6651244 ,  4.537188  ,  2.3706684 ,  7.678485  ,  4.883579  ,\n",
       "        6.7811623 ,  4.041339  ,  5.5846605 ,  4.0122766 ,  0.22661768,\n",
       "        1.8811578 ,  4.571473  ,  2.7035308 ,  1.3724077 ,  2.2599847 ,\n",
       "        4.8131084 ,  2.4722588 ,  1.0704602 ,  5.6861033 ,  5.719989  ,\n",
       "        6.9735346 ,  4.0875163 ,  3.8313384 ,  3.368205  ,  4.324786  ,\n",
       "        6.764499  ,  7.7144685 ,  8.282661  ,  1.6002718 ,  5.7921257 ,\n",
       "        5.3272057 ,  4.670336  ,  8.926132  ,  4.5209184 ,  6.8989077 ,\n",
       "        1.9988396 ,  1.5053592 ,  5.3683043 ,  3.515528  ,  5.9197245 ,\n",
       "        1.7491556 ,  4.844645  ,  2.5448115 ,  5.727832  ,  1.5663878 ,\n",
       "        8.624485  ,  6.4463067 ,  4.819657  ,  4.0418115 ,  6.60102   ,\n",
       "        2.985795  ,  2.525592  ,  6.4675756 ,  7.159583  ,  5.8303027 ,\n",
       "        5.8705063 ,  1.5392544 ,  8.592362  ,  5.35798   ,  7.1970134 ,\n",
       "        4.112187  ,  4.399898  ,  6.8750772 ,  5.5737343 ,  4.4440975 ,\n",
       "        0.5081891 ,  8.456368  ,  5.5292997 ,  2.5103722 ,  7.2706504 ,\n",
       "        6.642888  ,  1.8488722 ,  3.9135067 ,  6.5898204 ,  0.5386284 ,\n",
       "        5.7442846 ,  7.4703026 ,  3.0387628 ,  0.9448832 ,  4.2497907 ,\n",
       "        5.607812  ,  0.70778143,  5.599395  ,  5.255639  , -1.1261724 ,\n",
       "        4.624966  ,  1.0951942 ,  3.6056774 ,  3.040104  ,  0.81025463,\n",
       "        8.192389  ,  7.8531055 ,  3.1933455 ,  4.586345  ,  5.19845   ,\n",
       "        2.6510577 ,  5.699795  ,  1.8092428 ,  3.70786   , -1.2386049 ,\n",
       "        5.005133  ,  5.379687  ,  3.8927853 , -0.05571475,  8.871029  ,\n",
       "        2.886611  ,  0.82221425,  5.8122616 ,  2.584206  ,  7.2762537 ,\n",
       "        5.631957  ,  1.6877625 ,  4.524396  ,  0.9695725 ,  4.4038773 ,\n",
       "        4.5679555 ,  9.9435215 ,  5.6963973 ,  5.7673564 ,  4.79666   ,\n",
       "        6.8539205 ,  3.5777621 ,  8.379388  ,  5.5229626 ,  5.220295  ,\n",
       "        4.6465926 ,  1.9231815 ,  4.8277817 ,  0.4516427 ,  4.8762627 ,\n",
       "        4.9246593 ,  6.981752  ,  7.5029035 ,  5.2458906 ,  6.8258243 ,\n",
       "        5.515891  ,  5.3631687 ,  6.9751005 ,  1.7748501 ,  4.323929  ,\n",
       "        5.1842856 ,  8.214703  ,  3.248983  ,  5.672043  ,  8.279309  ,\n",
       "        1.9753456 ,  2.751668  ,  2.737227  ,  9.020874  ,  6.0834394 ,\n",
       "        4.1688943 ,  6.583674  ,  8.117455  ,  0.5062346 ,  6.871075  ,\n",
       "        4.3794303 ,  4.4106407 ,  5.9119062 ,  1.5032021 ,  3.7249382 ,\n",
       "        6.984145  ,  5.2984676 ,  1.4613465 ,  8.234361  ,  8.166759  ,\n",
       "        2.9457588 ,  4.7652793 ,  5.1035905 ,  5.228466  ,  7.153414  ,\n",
       "        3.8692298 ,  4.1959796 ,  8.590042  ,  3.4146883 ,  0.7595933 ,\n",
       "        4.2210894 ,  2.1908803 ,  7.6501303 ,  5.1739483 ,  4.542971  ,\n",
       "        4.372277  ,  3.2398844 ,  8.021415  ,  4.8401866 ,  1.6329614 ,\n",
       "        7.9195538 ,  3.1445522 ,  6.937831  ,  4.813887  ,  4.835204  ,\n",
       "        6.047579  ,  1.2654352 ,  4.3659577 ,  5.9061217 ,  7.355849  ,\n",
       "        5.498689  ,  1.7900351 ,  5.661591  ,  0.19550933,  5.3446145 ,\n",
       "        2.0214577 ,  5.387575  ,  6.045978  , -0.9571307 ,  8.6767025 ,\n",
       "        0.7247996 ,  1.5426823 ,  1.2032099 ,  4.463234  ,  8.704804  ,\n",
       "        7.650895  ,  6.7961345 ,  7.958252  ,  7.9016967 ,  6.333262  ,\n",
       "        2.7249806 ,  3.6839738 ,  6.516947  ,  6.539548  ,  4.8274326 ,\n",
       "        5.7563505 ,  2.8220036 ,  3.989521  ,  1.2401893 ,  8.193941  ,\n",
       "        0.41637212,  6.1877427 ,  7.667195  ,  4.1160917 ,  6.3549433 ,\n",
       "        6.450318  ,  8.394061  ,  4.186488  ,  4.9060574 ,  8.791483  ,\n",
       "        2.398997  ,  5.9826007 ,  3.8530884 ,  3.4086142 ,  6.9372945 ,\n",
       "        0.9705668 ,  1.2925038 ,  2.340136  ,  4.0211124 ,  7.446119  ,\n",
       "        7.1620383 ,  1.0665094 ,  4.8400016 ,  4.843353  ,  1.8023517 ,\n",
       "        7.1549797 ,  5.6057425 ,  3.8745575 ,  5.599259  ,  1.972444  ,\n",
       "        4.946127  ,  5.098178  ,  2.5084777 ,  5.7632527 ,  6.6963224 ,\n",
       "        2.636093  ,  8.788607  ,  7.215356  ,  7.8230186 ,  6.7813177 ,\n",
       "        7.7605352 ,  0.11337295,  8.274791  ,  7.502352  ,  3.103013  ,\n",
       "        6.0072317 ,  5.612453  ,  5.4745197 ,  7.5067244 ,  6.3117146 ,\n",
       "        4.195583  ,  5.2742524 ,  8.252007  ,  4.8310432 ,  1.6316655 ,\n",
       "        4.02194   ,  6.6577616 ,  7.04786   ,  9.072903  ,  6.1269217 ,\n",
       "        1.1660416 ,  2.0103984 ,  5.2769637 ,  8.809652  ,  2.5277874 ,\n",
       "        7.6190367 ,  1.5404631 ,  7.9681    ,  4.072632  ,  3.9805303 ,\n",
       "        9.129045  ,  0.74880433,  5.5567217 ,  8.079517  ,  7.3599625 ,\n",
       "        9.111493  ,  1.4470758 ,  5.3134475 ,  3.4496193 ,  7.886385  ,\n",
       "        7.8992414 ,  1.408293  ,  6.6498804 ,  3.2618685 ,  4.9294486 ,\n",
       "        5.484836  ,  0.2425197 ,  3.8232415 ,  8.534943  ,  3.3038375 ,\n",
       "        3.857992  ,  7.625127  ,  5.5955257 ,  8.704774  ,  5.30583   ,\n",
       "        5.8668003 ,  5.100774  ,  2.2670903 ,  5.7797337 ,  1.4542813 ,\n",
       "        9.124969  ,  8.446153  ,  6.4990687 ,  5.529907  ,  4.9012012 ,\n",
       "        9.161556  ,  8.688636  ,  2.513814  ,  4.199958  ,  2.489473  ,\n",
       "        2.4962277 ,  4.3457603 ,  6.5950823 ,  5.045019  ,  9.467219  ,\n",
       "        5.97406   ,  1.8936603 ,  4.4458885 ,  2.1180024 ,  1.2425679 ,\n",
       "        6.2614217 ,  4.118501  ,  4.0044928 ,  1.9209085 ,  5.2751765 ,\n",
       "        6.2223706 ,  3.6398153 ,  5.8899493 ,  3.3880422 ,  4.573713  ,\n",
       "        4.9946012 ,  2.5943635 ,  4.6339965 ,  5.2664323 ,  2.478613  ,\n",
       "        4.8554664 ,  6.1475697 ,  2.6704907 ,  4.4789186 ,  5.8836665 ,\n",
       "        5.415547  ,  7.6269875 ,  4.843673  ,  1.9501121 ,  5.6945724 ,\n",
       "        1.5217273 ,  4.393202  ,  2.6711006 ,  7.2574663 ,  3.6123402 ,\n",
       "        8.149044  ,  8.732284  ,  2.1833336 ,  1.8083248 ,  2.8745346 ,\n",
       "        7.2086196 ,  2.8872988 ,  6.1701856 ,  3.067124  ,  5.9215884 ,\n",
       "        6.7310414 ,  4.8641276 ,  5.624468  ,  1.9397631 ,  4.5795813 ,\n",
       "        7.654902  ,  6.052544  ,  5.34949   ,  6.3216896 ,  3.6974163 ,\n",
       "        6.633707  ,  7.5366244 ,  6.486045  ,  1.5150374 ,  6.7463207 ,\n",
       "        4.6289    ,  2.1405969 ,  6.666387  ,  2.622253  ,  6.5439234 ,\n",
       "        5.5713186 ,  4.769755  ,  6.646694  ,  3.8644414 ,  5.1717668 ,\n",
       "        4.0376797 ,  7.0932617 ,  6.362851  ,  3.4585238 ,  4.476537  ,\n",
       "        2.9053564 ,  4.943741  ,  4.6847286 ,  3.6527598 ,  1.9254782 ,\n",
       "        4.3281503 ,  2.1113853 ,  5.243363  ,  8.125412  ,  6.6801834 ,\n",
       "        3.641191  ,  3.1857405 ,  1.5147998 ,  4.7476807 ,  3.7883315 ,\n",
       "        4.0013156 ,  7.4562125 ,  8.703632  ,  4.075247  ,  5.1776195 ,\n",
       "        2.6996362 ,  2.429072  ,  6.7443376 ,  5.548766  ,  5.491167  ,\n",
       "        7.7182355 ,  6.3469105 ,  6.6988087 ,  4.033381  ,  4.0772276 ,\n",
       "        8.028003  ,  5.942369  ,  5.8837276 ,  4.453225  ,  8.171839  ,\n",
       "        7.1721354 ,  7.1018004 ,  7.3170185 ,  6.3537965 ,  3.9071155 ,\n",
       "        4.8849564 ,  1.6573441 ,  6.972917  ,  4.435418  ,  6.4819913 ,\n",
       "        5.3223543 ,  5.0770903 ,  5.3909206 ,  0.863426  ,  0.7967411 ,\n",
       "        5.4349484 ,  4.7505083 ,  3.7351809 ,  5.217894  ,  5.562564  ,\n",
       "        7.8854337 ,  4.728783  ,  8.227853  ,  7.129722  ,  7.8285437 ,\n",
       "        9.124949  ,  2.9085546 ,  7.2936096 ,  7.687909  ,  7.1384587 ,\n",
       "        9.121286  ,  0.38699347,  0.72349423,  4.469966  ,  6.9805436 ,\n",
       "        2.5175533 ,  4.747901  ,  5.5220957 ,  2.9537811 ,  0.43850404,\n",
       "        1.3485091 ,  7.2362375 ,  5.6369095 ,  5.8061333 ,  8.223557  ,\n",
       "        7.7334366 ,  5.5226865 ,  7.424548  ,  2.5738153 ,  6.5513496 ,\n",
       "        8.213208  ,  6.309011  ,  6.42291   ,  0.97408366,  1.1897097 ,\n",
       "        9.901575  ,  4.361733  ,  3.2244525 ,  2.393211  ,  0.74789023,\n",
       "        6.6837974 ,  1.1819912 ,  2.9651337 ,  7.3298545 ,  2.1818924 ,\n",
       "        6.565221  ,  5.2958484 ,  7.3119473 ,  6.2584343 ,  4.8077455 ,\n",
       "        4.3179884 ,  3.6989515 ,  6.9171324 ,  5.4054823 ,  7.4275856 ,\n",
       "        7.7449465 ,  7.5363665 ,  1.5224835 ,  7.373063  ,  5.1624894 ,\n",
       "        5.4868994 ,  6.391461  ,  4.908777  ,  4.1893125 , -0.3037696 ,\n",
       "        9.245655  ,  2.6631315 ,  6.888343  ,  7.3288803 ,  1.5427445 ,\n",
       "        7.8535643 ,  2.8946817 ,  6.087195  ,  5.6977015 ,  6.63278   ],\n",
       "      dtype=float32)"
      ]
     },
     "execution_count": 71,
     "metadata": {},
     "output_type": "execute_result"
    }
   ],
   "source": [
    "# смотрим предсказания модели-регрессора\n",
    "preds = oof_pred.data[:,0]\n",
    "preds\n"
   ]
  },
  {
   "cell_type": "code",
   "execution_count": 72,
   "metadata": {},
   "outputs": [
    {
     "data": {
      "text/plain": [
       "array([ 7,  8,  2,  4,  8,  0,  4,  5,  3,  4,  3,  0,  2,  2,  3,  5,  3,\n",
       "        9,  9,  8,  8, 10,  8,  4,  8,  4,  8,  7,  9,  0,  2,  2,  1,  8,\n",
       "        7,  3,  9,  2,  3,  0,  4,  0,  4,  9,  2,  8,  3,  7,  2,  2,  6,\n",
       "        4,  2,  3, 10,  2,  4,  5, 10,  4,  1,  9,  5,  5,  1,  0,  2,  2,\n",
       "       10,  8,  2,  1,  5,  5,  1,  7,  6,  7,  3,  2,  9,  7,  4,  1,  2,\n",
       "        9,  2,  9,  4,  2,  6,  9,  5,  6,  6,  7,  9,  5,  4,  0,  9, 10,\n",
       "        4,  9,  4,  5,  4,  7,  6,  2,  6,  7,  4,  8,  7,  3,  8,  6,  9,\n",
       "        2,  6,  6,  9,  1,  4,  3,  5,  2,  3,  1,  8,  7,  6,  5,  6,  2,\n",
       "        7,  4,  6,  6,  6,  2,  6, 10,  9,  9,  2,  2, 10,  3,  5, 10,  2,\n",
       "        2, 10,  8, 10,  5,  5,  5,  2,  9,  5,  1,  9,  1,  1,  8,  2,  9,\n",
       "        7,  8,  2,  9,  7,  6,  6,  8,  6,  0,  2,  8,  2,  4,  8,  5,  5,\n",
       "        7,  4,  7,  6,  6,  7,  5,  1,  5,  1,  8,  6,  5,  3,  4,  9,  7,\n",
       "        2,  8,  4,  3, 10, 10, 10,  5,  5,  4,  1,  3,  5,  4,  9,  4,  6,\n",
       "        0,  6,  3,  9,  9,  3,  5,  3,  9,  2,  7,  8,  7,  5,  0,  3,  4,\n",
       "        7,  1,  3,  7, 10,  3,  8,  1,  5,  2,  9,  2,  9,  9,  3,  3, 10,\n",
       "        2,  0,  2,  2,  7,  7,  9,  8, 10,  1,  4,  9,  6,  3,  7,  7,  6,\n",
       "        2,  7,  3,  2,  1,  3,  9,  5,  5,  4,  8,  0,  1,  0,  1,  2,  1,\n",
       "        8,  2,  2,  7,  6,  1,  7,  2,  7,  8,  5,  7,  8,  0,  5,  5,  3,\n",
       "        0,  3,  1,  2,  9,  8,  8,  2,  2,  5,  3,  6,  4,  1,  7,  6,  5,\n",
       "        8,  6,  3,  2,  9,  4,  9,  0, 10,  9,  5,  4,  9,  7,  3,  9,  9,\n",
       "        1,  7,  9,  2,  1,  9,  3,  5,  3,  0,  4,  1,  5,  7,  6,  9,  8,\n",
       "        8,  9,  9,  5,  4,  3,  8,  2,  5,  8,  5,  7,  8,  4,  2,  9,  3,\n",
       "        2,  8,  7,  3,  5,  7,  7,  4,  6,  6, 10,  2,  3,  3,  9,  2,  6,\n",
       "        5,  5,  3,  3,  3,  9, 10,  9,  5,  7,  1,  6,  6,  6,  1,  2,  6,\n",
       "        9,  8,  8,  8, 10,  9,  1,  5,  7,  2,  9,  8,  9,  6,  6,  6,  8,\n",
       "        5,  9,  9,  7,  3,  3,  0,  5,  3,  6,  5,  2,  3,  0,  8,  9,  7,\n",
       "        6,  5,  2,  6,  0,  4,  4,  1,  8,  4,  7,  4,  9,  7,  4,  3,  8,\n",
       "        3,  8,  1,  6,  5,  0,  2,  6,  3,  1,  3,  4,  2,  1,  5,  5,  5,\n",
       "        4,  4,  3,  5,  8,  7, 10,  0,  6,  8,  8,  9,  5,  7,  1,  1,  6,\n",
       "        3,  5,  2,  3,  1,  5,  0,  9,  8,  8,  2,  7,  0,  1,  7,  9,  7,\n",
       "        7,  1,  8,  6,  7,  4,  0,  7,  5,  3,  1, 10,  5,  3,  7,  6,  0,\n",
       "        3,  9,  1,  4,  6,  2,  1,  4,  7,  1,  4,  2,  1,  3,  1,  2,  6,\n",
       "        0,  8,  8,  2,  2,  4,  4,  7,  0,  3,  0,  3,  6,  4,  0,  9,  3,\n",
       "        2,  3,  0, 10,  7,  0,  6,  1,  5,  6,  9,  6,  5,  7,  8,  3,  9,\n",
       "        7,  8,  3,  1,  4,  1,  6,  7,  6,  5,  4,  7,  5,  5,  9,  1,  4,\n",
       "        4,  9,  5,  2,  9,  2,  0,  1,  9,  7,  6,  7,  9,  0,  6,  4,  5,\n",
       "        8,  0,  2,  8,  9,  1,  9,  8,  3,  6,  4,  6,  7,  4,  3,  8,  3,\n",
       "        1,  2,  1,  8,  4,  4,  7,  3,  7,  3,  2, 10,  3,  6,  6,  5,  3,\n",
       "        5,  5,  4,  7,  6,  2,  5,  1,  5,  1,  5,  5,  1,  9,  1,  2,  2,\n",
       "        6, 10,  9,  8,  5, 10,  5,  2,  6,  6,  5,  3,  6,  4,  8,  1,  8,\n",
       "        2,  3,  6,  2,  8,  5,  9,  5,  6,  9,  1,  8,  6,  1,  6,  1,  1,\n",
       "        1,  4,  9,  9,  3,  7,  6,  0, 10,  7,  4,  8,  1,  5,  4,  1,  6,\n",
       "        8,  1,  8,  9,  7,  8,  9,  0,  9, 10,  3,  6,  3,  5,  9,  8,  4,\n",
       "        6,  8,  4,  2,  7,  7,  8, 10,  6,  1,  0,  4,  9,  2,  6,  1, 10,\n",
       "        3,  3, 10,  0,  5,  7,  8, 10,  1,  6,  0,  5, 10,  2,  7,  4,  4,\n",
       "        4,  1,  1, 10,  3,  6,  9,  7, 10,  7,  8,  5,  3,  7,  1,  9,  8,\n",
       "        8,  8,  2,  8, 10,  0,  7,  3,  3,  5,  8,  3, 10,  6,  1,  3,  1,\n",
       "        0,  7,  3,  4,  1,  4,  8,  2,  8,  3,  8,  8,  1,  3,  6,  3,  4,\n",
       "        8,  1,  4,  8,  4, 10,  7,  1,  5,  1,  4,  2,  9,  6,  9, 10,  4,\n",
       "        0,  0,  7,  3,  8,  2,  7,  9,  6,  7,  3,  3,  7,  6,  7,  9,  1,\n",
       "        9,  8,  6,  1,  6,  4,  3,  8,  2,  5,  5,  3,  6,  1,  4,  2,  9,\n",
       "        7,  2,  4,  0,  2,  5,  1,  1,  3,  2,  4,  9,  8,  3,  4,  2,  4,\n",
       "        4,  4,  6, 10,  5,  3,  0,  1,  8,  9,  6,  8,  7,  7,  4,  2,  6,\n",
       "        4,  8,  5,  9, 10,  8,  9,  3,  4,  2,  0,  6,  5,  4,  5,  6,  5,\n",
       "        1,  1,  2,  4,  3,  7,  4,  8,  6,  6,  7,  9,  7,  1, 10,  8,  5,\n",
       "       10,  0,  1,  4,  5,  1,  4,  6,  1,  1,  1, 10,  5,  7,  7,  8,  6,\n",
       "        9,  2,  1,  6,  8, 10,  0,  1, 10,  4,  1,  3,  0, 10,  0,  3,  9,\n",
       "        2,  7,  7,  7,  7,  6,  4,  4,  5,  4, 10, 10,  8,  2,  9,  5,  5,\n",
       "        4,  4,  1,  1,  9,  1,  9,  8,  1,  9,  2,  3,  7,  7])"
      ]
     },
     "execution_count": 72,
     "metadata": {},
     "output_type": "execute_result"
    }
   ],
   "source": [
    "y_true = train_1['label'].values\n",
    "y_true"
   ]
  },
  {
   "cell_type": "code",
   "execution_count": 73,
   "metadata": {},
   "outputs": [
    {
     "data": {
      "text/plain": [
       "(1000, 1000)"
      ]
     },
     "execution_count": 73,
     "metadata": {},
     "output_type": "execute_result"
    }
   ],
   "source": [
    "len(y_true), len(preds)"
   ]
  },
  {
   "cell_type": "code",
   "execution_count": 74,
   "metadata": {},
   "outputs": [],
   "source": [
    "# Введем метрики оценки качества модели\n",
    "def mse(y_true, y_pred):\n",
    "    return ((y_true - y_pred)**2).mean()\n",
    "def mae(y_true, y_pred):\n",
    "    return (np.abs(y_true - y_pred)).mean()"
   ]
  },
  {
   "cell_type": "code",
   "execution_count": 75,
   "metadata": {},
   "outputs": [
    {
     "name": "stdout",
     "output_type": "stream",
     "text": [
      "MSE = 2.1170836277245817\n",
      "MAE = 1.157314394492656\n"
     ]
    }
   ],
   "source": [
    "# Оценим нашу модель на валидационной выборке:\n",
    "print(f\"MSE = {mse(y_true, preds)}\")\n",
    "print(f\"MAE = {mae(y_true, preds)}\")\n",
    "\n",
    "# все класс 1\n",
    "# MSE = 0.34593320973622943\n",
    "# MAE = 0.45251106303930283\n",
    "\n",
    "# все класс 2\n",
    "# MSE = 1.9758710243245299\n",
    "# MAE = 1.1024402384161949\n",
    "\n",
    "# все класс 3\n",
    "# MSE = 2.1170836277245817\n",
    "# MAE = 1.157314394492656\n",
    "\n",
    "# все и все классы сразу\n",
    "# MSE = 1.5963662768334919\n",
    "# MAE = 0.9565228770921628"
   ]
  },
  {
   "cell_type": "markdown",
   "metadata": {},
   "source": [
    "# Предскажем на тесте"
   ]
  },
  {
   "cell_type": "code",
   "execution_count": 23,
   "metadata": {},
   "outputs": [],
   "source": [
    "test = pd.read_csv('data/test.csv')"
   ]
  },
  {
   "cell_type": "code",
   "execution_count": 24,
   "metadata": {},
   "outputs": [
    {
     "data": {
      "text/html": [
       "<div>\n",
       "<style scoped>\n",
       "    .dataframe tbody tr th:only-of-type {\n",
       "        vertical-align: middle;\n",
       "    }\n",
       "\n",
       "    .dataframe tbody tr th {\n",
       "        vertical-align: top;\n",
       "    }\n",
       "\n",
       "    .dataframe thead th {\n",
       "        text-align: right;\n",
       "    }\n",
       "</style>\n",
       "<table border=\"1\" class=\"dataframe\">\n",
       "  <thead>\n",
       "    <tr style=\"text-align: right;\">\n",
       "      <th></th>\n",
       "      <th>img_path</th>\n",
       "    </tr>\n",
       "  </thead>\n",
       "  <tbody>\n",
       "    <tr>\n",
       "      <th>0</th>\n",
       "      <td>test_data/1.png</td>\n",
       "    </tr>\n",
       "    <tr>\n",
       "      <th>1</th>\n",
       "      <td>test_data/2.png</td>\n",
       "    </tr>\n",
       "    <tr>\n",
       "      <th>2</th>\n",
       "      <td>test_data/3.png</td>\n",
       "    </tr>\n",
       "    <tr>\n",
       "      <th>3</th>\n",
       "      <td>test_data/4.png</td>\n",
       "    </tr>\n",
       "    <tr>\n",
       "      <th>4</th>\n",
       "      <td>test_data/5.png</td>\n",
       "    </tr>\n",
       "  </tbody>\n",
       "</table>\n",
       "</div>"
      ],
      "text/plain": [
       "          img_path\n",
       "0  test_data/1.png\n",
       "1  test_data/2.png\n",
       "2  test_data/3.png\n",
       "3  test_data/4.png\n",
       "4  test_data/5.png"
      ]
     },
     "execution_count": 24,
     "metadata": {},
     "output_type": "execute_result"
    }
   ],
   "source": [
    "test.head()"
   ]
  },
  {
   "cell_type": "code",
   "execution_count": 26,
   "metadata": {},
   "outputs": [],
   "source": [
    "# добавим полный относительный путь до картинок из test\n",
    "# в качестве новой колонки\n",
    "path_to_dataset_test = 'data'\n",
    "test['path'] =  path_to_dataset_test + '/' + test['img_path']"
   ]
  },
  {
   "cell_type": "code",
   "execution_count": 27,
   "metadata": {},
   "outputs": [],
   "source": [
    "# колонка с имена картинок больше не нужна\n",
    "test.drop(columns=['img_path'], inplace=True)"
   ]
  },
  {
   "cell_type": "code",
   "execution_count": 28,
   "metadata": {},
   "outputs": [
    {
     "data": {
      "text/html": [
       "<div>\n",
       "<style scoped>\n",
       "    .dataframe tbody tr th:only-of-type {\n",
       "        vertical-align: middle;\n",
       "    }\n",
       "\n",
       "    .dataframe tbody tr th {\n",
       "        vertical-align: top;\n",
       "    }\n",
       "\n",
       "    .dataframe thead th {\n",
       "        text-align: right;\n",
       "    }\n",
       "</style>\n",
       "<table border=\"1\" class=\"dataframe\">\n",
       "  <thead>\n",
       "    <tr style=\"text-align: right;\">\n",
       "      <th></th>\n",
       "      <th>path</th>\n",
       "    </tr>\n",
       "  </thead>\n",
       "  <tbody>\n",
       "    <tr>\n",
       "      <th>0</th>\n",
       "      <td>data/test_data/1.png</td>\n",
       "    </tr>\n",
       "    <tr>\n",
       "      <th>1</th>\n",
       "      <td>data/test_data/2.png</td>\n",
       "    </tr>\n",
       "    <tr>\n",
       "      <th>2</th>\n",
       "      <td>data/test_data/3.png</td>\n",
       "    </tr>\n",
       "    <tr>\n",
       "      <th>3</th>\n",
       "      <td>data/test_data/4.png</td>\n",
       "    </tr>\n",
       "    <tr>\n",
       "      <th>4</th>\n",
       "      <td>data/test_data/5.png</td>\n",
       "    </tr>\n",
       "  </tbody>\n",
       "</table>\n",
       "</div>"
      ],
      "text/plain": [
       "                   path\n",
       "0  data/test_data/1.png\n",
       "1  data/test_data/2.png\n",
       "2  data/test_data/3.png\n",
       "3  data/test_data/4.png\n",
       "4  data/test_data/5.png"
      ]
     },
     "execution_count": 28,
     "metadata": {},
     "output_type": "execute_result"
    }
   ],
   "source": [
    "test.head()"
   ]
  },
  {
   "cell_type": "code",
   "execution_count": 29,
   "metadata": {},
   "outputs": [
    {
     "name": "stderr",
     "output_type": "stream",
     "text": [
      "100%|██████████| 47/47 [00:04<00:00,  9.54it/s]"
     ]
    },
    {
     "name": "stdout",
     "output_type": "stream",
     "text": [
      "[08:07:43] Feature path transformed\n"
     ]
    },
    {
     "name": "stderr",
     "output_type": "stream",
     "text": [
      "\n",
      "/home/admin-gpu/anaconda3/envs/sber_lama/lib/python3.9/site-packages/lightautoml/image/image.py:84: RuntimeWarning: invalid value encountered in divide\n",
      "  return list(hist / hist.sum())\n"
     ]
    }
   ],
   "source": [
    "# предсказание ансамблем моделей на тестовых данных\n",
    "test_pred = automl.predict(test)"
   ]
  },
  {
   "cell_type": "code",
   "execution_count": 30,
   "metadata": {},
   "outputs": [],
   "source": [
    "test_pred = test_pred.data[:,0]"
   ]
  },
  {
   "cell_type": "code",
   "execution_count": 31,
   "metadata": {},
   "outputs": [
    {
     "data": {
      "text/plain": [
       "array([ 7.4513717, 11.071525 ,  1.4318794, ..., 11.1494255,  6.2699213,\n",
       "        3.389724 ], dtype=float32)"
      ]
     },
     "execution_count": 31,
     "metadata": {},
     "output_type": "execute_result"
    }
   ],
   "source": [
    "test_pred"
   ]
  },
  {
   "cell_type": "markdown",
   "metadata": {},
   "source": [
    "# публикуем сабмит"
   ]
  },
  {
   "cell_type": "code",
   "execution_count": 32,
   "metadata": {},
   "outputs": [],
   "source": [
    "submission = pd.read_csv('data/sample_submission.csv')"
   ]
  },
  {
   "cell_type": "code",
   "execution_count": 33,
   "metadata": {},
   "outputs": [
    {
     "data": {
      "text/html": [
       "<div>\n",
       "<style scoped>\n",
       "    .dataframe tbody tr th:only-of-type {\n",
       "        vertical-align: middle;\n",
       "    }\n",
       "\n",
       "    .dataframe tbody tr th {\n",
       "        vertical-align: top;\n",
       "    }\n",
       "\n",
       "    .dataframe thead th {\n",
       "        text-align: right;\n",
       "    }\n",
       "</style>\n",
       "<table border=\"1\" class=\"dataframe\">\n",
       "  <thead>\n",
       "    <tr style=\"text-align: right;\">\n",
       "      <th></th>\n",
       "      <th>label</th>\n",
       "    </tr>\n",
       "  </thead>\n",
       "  <tbody>\n",
       "    <tr>\n",
       "      <th>0</th>\n",
       "      <td>0</td>\n",
       "    </tr>\n",
       "    <tr>\n",
       "      <th>1</th>\n",
       "      <td>0</td>\n",
       "    </tr>\n",
       "    <tr>\n",
       "      <th>2</th>\n",
       "      <td>0</td>\n",
       "    </tr>\n",
       "    <tr>\n",
       "      <th>3</th>\n",
       "      <td>0</td>\n",
       "    </tr>\n",
       "    <tr>\n",
       "      <th>4</th>\n",
       "      <td>0</td>\n",
       "    </tr>\n",
       "    <tr>\n",
       "      <th>...</th>\n",
       "      <td>...</td>\n",
       "    </tr>\n",
       "    <tr>\n",
       "      <th>5995</th>\n",
       "      <td>0</td>\n",
       "    </tr>\n",
       "    <tr>\n",
       "      <th>5996</th>\n",
       "      <td>0</td>\n",
       "    </tr>\n",
       "    <tr>\n",
       "      <th>5997</th>\n",
       "      <td>0</td>\n",
       "    </tr>\n",
       "    <tr>\n",
       "      <th>5998</th>\n",
       "      <td>0</td>\n",
       "    </tr>\n",
       "    <tr>\n",
       "      <th>5999</th>\n",
       "      <td>0</td>\n",
       "    </tr>\n",
       "  </tbody>\n",
       "</table>\n",
       "<p>6000 rows × 1 columns</p>\n",
       "</div>"
      ],
      "text/plain": [
       "      label\n",
       "0         0\n",
       "1         0\n",
       "2         0\n",
       "3         0\n",
       "4         0\n",
       "...     ...\n",
       "5995      0\n",
       "5996      0\n",
       "5997      0\n",
       "5998      0\n",
       "5999      0\n",
       "\n",
       "[6000 rows x 1 columns]"
      ]
     },
     "execution_count": 33,
     "metadata": {},
     "output_type": "execute_result"
    }
   ],
   "source": [
    "submission"
   ]
  },
  {
   "cell_type": "code",
   "execution_count": 34,
   "metadata": {},
   "outputs": [],
   "source": [
    "submission['label'] = test_pred\n"
   ]
  },
  {
   "cell_type": "code",
   "execution_count": 35,
   "metadata": {},
   "outputs": [
    {
     "data": {
      "text/html": [
       "<div>\n",
       "<style scoped>\n",
       "    .dataframe tbody tr th:only-of-type {\n",
       "        vertical-align: middle;\n",
       "    }\n",
       "\n",
       "    .dataframe tbody tr th {\n",
       "        vertical-align: top;\n",
       "    }\n",
       "\n",
       "    .dataframe thead th {\n",
       "        text-align: right;\n",
       "    }\n",
       "</style>\n",
       "<table border=\"1\" class=\"dataframe\">\n",
       "  <thead>\n",
       "    <tr style=\"text-align: right;\">\n",
       "      <th></th>\n",
       "      <th>label</th>\n",
       "    </tr>\n",
       "  </thead>\n",
       "  <tbody>\n",
       "    <tr>\n",
       "      <th>0</th>\n",
       "      <td>7.451372</td>\n",
       "    </tr>\n",
       "    <tr>\n",
       "      <th>1</th>\n",
       "      <td>11.071525</td>\n",
       "    </tr>\n",
       "    <tr>\n",
       "      <th>2</th>\n",
       "      <td>1.431879</td>\n",
       "    </tr>\n",
       "    <tr>\n",
       "      <th>3</th>\n",
       "      <td>6.963997</td>\n",
       "    </tr>\n",
       "    <tr>\n",
       "      <th>4</th>\n",
       "      <td>7.484351</td>\n",
       "    </tr>\n",
       "    <tr>\n",
       "      <th>...</th>\n",
       "      <td>...</td>\n",
       "    </tr>\n",
       "    <tr>\n",
       "      <th>5995</th>\n",
       "      <td>10.608534</td>\n",
       "    </tr>\n",
       "    <tr>\n",
       "      <th>5996</th>\n",
       "      <td>9.632649</td>\n",
       "    </tr>\n",
       "    <tr>\n",
       "      <th>5997</th>\n",
       "      <td>11.149426</td>\n",
       "    </tr>\n",
       "    <tr>\n",
       "      <th>5998</th>\n",
       "      <td>6.269921</td>\n",
       "    </tr>\n",
       "    <tr>\n",
       "      <th>5999</th>\n",
       "      <td>3.389724</td>\n",
       "    </tr>\n",
       "  </tbody>\n",
       "</table>\n",
       "<p>6000 rows × 1 columns</p>\n",
       "</div>"
      ],
      "text/plain": [
       "          label\n",
       "0      7.451372\n",
       "1     11.071525\n",
       "2      1.431879\n",
       "3      6.963997\n",
       "4      7.484351\n",
       "...         ...\n",
       "5995  10.608534\n",
       "5996   9.632649\n",
       "5997  11.149426\n",
       "5998   6.269921\n",
       "5999   3.389724\n",
       "\n",
       "[6000 rows x 1 columns]"
      ]
     },
     "execution_count": 35,
     "metadata": {},
     "output_type": "execute_result"
    }
   ],
   "source": [
    "submission"
   ]
  },
  {
   "cell_type": "code",
   "execution_count": 36,
   "metadata": {},
   "outputs": [],
   "source": [
    "submission_path = 'submission/lightautoml.csv'"
   ]
  },
  {
   "cell_type": "code",
   "execution_count": 37,
   "metadata": {},
   "outputs": [],
   "source": [
    "submission.to_csv(submission_path, index=False)"
   ]
  }
 ],
 "metadata": {
  "kernelspec": {
   "display_name": "Python 3.9.12 ('sber_lama')",
   "language": "python",
   "name": "python3"
  },
  "language_info": {
   "codemirror_mode": {
    "name": "ipython",
    "version": 3
   },
   "file_extension": ".py",
   "mimetype": "text/x-python",
   "name": "python",
   "nbconvert_exporter": "python",
   "pygments_lexer": "ipython3",
   "version": "3.9.12"
  },
  "vscode": {
   "interpreter": {
    "hash": "901158d8cd2db934fb9192b2a062c20c24f00bed87efea9fcd6e00355046a3d1"
   }
  }
 },
 "nbformat": 4,
 "nbformat_minor": 4
}
