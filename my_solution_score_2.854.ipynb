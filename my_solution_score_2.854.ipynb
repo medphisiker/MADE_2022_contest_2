{
 "cells": [
  {
   "cell_type": "markdown",
   "metadata": {},
   "source": [
    "Я решаю данную задачу используя библиотеку LightAutoML [ссылка](https://github.com/sb-ai-lab/LightAutoML). "
   ]
  },
  {
   "cell_type": "markdown",
   "metadata": {},
   "source": [
    "# Условия\n",
    "\n",
    "## Описание задачи\n",
    "В вашем распоряжении есть набор изображений, которые состоят из нескольких видов геометрических фигур:\n",
    "\n",
    "квадратов;\n",
    "прямоугольников;\n",
    "параллелограммов;\n",
    "окружностей.\n",
    "Ваша задача – посчитать количество квадратов на каждом изображении из тестовых данных. Изображения для обучения можно скачать здесь.\n",
    "\n",
    "## Описание данных\n",
    "Весь набор данных состоит из 3 типов изображений в равном количестве:\n",
    "\n",
    "Содержат только квадраты, которые могут иметь общие стороны, вкладываться друг в друга, но не пересекаться.\n",
    "Содержат квадраты и другие фигуры, все они могут иметь общие стороны, вкладываться друг в друга, но не пересекаться.\n",
    "Содержат квадраты и другие фигуры, которые дополнительно могут пересекаться.\n",
    "Ниже находятся 2 файла, которые потребуются для решения задачи: train.csv – содержит информацию об изображениях для обучения, test.csv – содержит информацию об изображениях для теста. Имеют поля:\n",
    "\n",
    "* img_path – путь до изображения\n",
    "* label – число квадратов на изображении (только в обучающем наборе)\n",
    "* type – тип изображения 1/2/3 (только в обучающем наборе)\n",
    "\n",
    "\n",
    "Пример сабмита можно посмотреть в файле sample_submission.csv. Он содержит одну колонку label, порядок соответствует порядку данных в тестовом наборе.\n",
    "\n",
    "## Метрика качества\n",
    "В качестве метрики качества используется метрика Root Mean Square Error (RMSE):"
   ]
  },
  {
   "cell_type": "markdown",
   "metadata": {},
   "source": [
    "## 0. Предварительная подготовка"
   ]
  },
  {
   "cell_type": "markdown",
   "metadata": {},
   "source": [
    "### 0.0. Установим LightAutoML"
   ]
  },
  {
   "cell_type": "code",
   "execution_count": 1,
   "metadata": {},
   "outputs": [],
   "source": [
    "# установим библиотеку LightAutoML с поддержкой энкодеров\n",
    "# для текста и изображений на основе нейросетей\n",
    "# !pip install -U lightautoml[all]"
   ]
  },
  {
   "cell_type": "code",
   "execution_count": 2,
   "metadata": {},
   "outputs": [],
   "source": [
    "# чтобы работали нейросети и шаблон решения задач\n",
    "# с картинками нужно поставить на библиотеку дополнительный фикс!\n",
    "# !pip install LightAutoML-0.3.7-py3-none-any.whl[all]"
   ]
  },
  {
   "cell_type": "code",
   "execution_count": 3,
   "metadata": {
    "_kg_hide-output": true,
    "execution": {
     "iopub.execute_input": "2022-07-05T14:48:27.156990Z",
     "iopub.status.busy": "2022-07-05T14:48:27.156347Z",
     "iopub.status.idle": "2022-07-05T14:50:52.471659Z",
     "shell.execute_reply": "2022-07-05T14:50:52.470198Z",
     "shell.execute_reply.started": "2022-07-05T14:48:27.156944Z"
    },
    "papermill": {
     "duration": 23.023261,
     "end_time": "2021-06-22T20:10:52.955691",
     "exception": false,
     "start_time": "2021-06-22T20:10:29.93243",
     "status": "completed"
    },
    "scrolled": true,
    "tags": []
   },
   "outputs": [],
   "source": [
    "# в качестве модели извлекающей признаки из картинок будет\n",
    "# использоваться нейросеть EfficientNet\n",
    "# установим эту зависимость.\n",
    "\n",
    "# !pip install efficientnet-pytorch==0.7.0\n",
    "\n",
    "# QUICK WORKAROUND FOR PROBLEM WITH PANDAS\n",
    "# !pip install -U pandas"
   ]
  },
  {
   "cell_type": "code",
   "execution_count": 4,
   "metadata": {
    "execution": {
     "iopub.execute_input": "2022-07-05T14:51:46.798354Z",
     "iopub.status.busy": "2022-07-05T14:51:46.797984Z",
     "iopub.status.idle": "2022-07-05T14:51:49.606148Z",
     "shell.execute_reply": "2022-07-05T14:51:49.605139Z",
     "shell.execute_reply.started": "2022-07-05T14:51:46.798321Z"
    },
    "papermill": {
     "duration": 8.32949,
     "end_time": "2021-06-22T20:11:01.487788",
     "exception": false,
     "start_time": "2021-06-22T20:10:53.158298",
     "status": "completed"
    },
    "tags": []
   },
   "outputs": [
    {
     "name": "stderr",
     "output_type": "stream",
     "text": [
      "/home/admin-gpu/anaconda3/envs/sber_lama/lib/python3.9/site-packages/tqdm/auto.py:22: TqdmWarning: IProgress not found. Please update jupyter and ipywidgets. See https://ipywidgets.readthedocs.io/en/stable/user_install.html\n",
      "  from .autonotebook import tqdm as notebook_tqdm\n"
     ]
    }
   ],
   "source": [
    "import os\n",
    "import time\n",
    "\n",
    "import numpy as np\n",
    "import pandas as pd\n",
    "from sklearn.metrics import f1_score, accuracy_score, confusion_matrix\n",
    "from sklearn.model_selection import train_test_split\n",
    "import torch\n",
    "import seaborn as sns\n",
    "import matplotlib.pyplot as plt\n",
    "\n",
    "# LightAutoML шаблоны пресетов для задач комп зрения\n",
    "from lightautoml.automl.presets.image_presets import TabularCVAutoML\n",
    "from lightautoml.tasks import Task"
   ]
  },
  {
   "cell_type": "code",
   "execution_count": 5,
   "metadata": {
    "execution": {
     "iopub.execute_input": "2022-07-05T14:51:52.670042Z",
     "iopub.status.busy": "2022-07-05T14:51:52.669639Z",
     "iopub.status.idle": "2022-07-05T14:51:52.694336Z",
     "shell.execute_reply": "2022-07-05T14:51:52.693519Z",
     "shell.execute_reply.started": "2022-07-05T14:51:52.670013Z"
    },
    "papermill": {
     "duration": 0.087268,
     "end_time": "2021-06-22T20:11:02.092497",
     "exception": false,
     "start_time": "2021-06-22T20:11:02.005229",
     "status": "completed"
    },
    "tags": []
   },
   "outputs": [],
   "source": [
    "np.random.seed(42)\n",
    "torch.set_num_threads(2)"
   ]
  },
  {
   "cell_type": "markdown",
   "metadata": {
    "papermill": {
     "duration": 0.072033,
     "end_time": "2021-06-22T20:11:02.238196",
     "exception": false,
     "start_time": "2021-06-22T20:11:02.166163",
     "status": "completed"
    },
    "tags": []
   },
   "source": [
    "### Загрузка данных"
   ]
  },
  {
   "cell_type": "code",
   "execution_count": 6,
   "metadata": {},
   "outputs": [],
   "source": [
    "train = pd.read_csv('data/train.csv')"
   ]
  },
  {
   "cell_type": "code",
   "execution_count": 7,
   "metadata": {},
   "outputs": [
    {
     "data": {
      "text/html": [
       "<div>\n",
       "<style scoped>\n",
       "    .dataframe tbody tr th:only-of-type {\n",
       "        vertical-align: middle;\n",
       "    }\n",
       "\n",
       "    .dataframe tbody tr th {\n",
       "        vertical-align: top;\n",
       "    }\n",
       "\n",
       "    .dataframe thead th {\n",
       "        text-align: right;\n",
       "    }\n",
       "</style>\n",
       "<table border=\"1\" class=\"dataframe\">\n",
       "  <thead>\n",
       "    <tr style=\"text-align: right;\">\n",
       "      <th></th>\n",
       "      <th>img_path</th>\n",
       "      <th>label</th>\n",
       "      <th>type</th>\n",
       "    </tr>\n",
       "  </thead>\n",
       "  <tbody>\n",
       "    <tr>\n",
       "      <th>0</th>\n",
       "      <td>train_data/1.png</td>\n",
       "      <td>3</td>\n",
       "      <td>1</td>\n",
       "    </tr>\n",
       "    <tr>\n",
       "      <th>1</th>\n",
       "      <td>train_data/2.png</td>\n",
       "      <td>7</td>\n",
       "      <td>3</td>\n",
       "    </tr>\n",
       "    <tr>\n",
       "      <th>2</th>\n",
       "      <td>train_data/3.png</td>\n",
       "      <td>9</td>\n",
       "      <td>2</td>\n",
       "    </tr>\n",
       "    <tr>\n",
       "      <th>3</th>\n",
       "      <td>train_data/4.png</td>\n",
       "      <td>9</td>\n",
       "      <td>1</td>\n",
       "    </tr>\n",
       "    <tr>\n",
       "      <th>4</th>\n",
       "      <td>train_data/5.png</td>\n",
       "      <td>10</td>\n",
       "      <td>1</td>\n",
       "    </tr>\n",
       "  </tbody>\n",
       "</table>\n",
       "</div>"
      ],
      "text/plain": [
       "           img_path  label  type\n",
       "0  train_data/1.png      3     1\n",
       "1  train_data/2.png      7     3\n",
       "2  train_data/3.png      9     2\n",
       "3  train_data/4.png      9     1\n",
       "4  train_data/5.png     10     1"
      ]
     },
     "execution_count": 7,
     "metadata": {},
     "output_type": "execute_result"
    }
   ],
   "source": [
    "train.head()"
   ]
  },
  {
   "cell_type": "code",
   "execution_count": 8,
   "metadata": {},
   "outputs": [],
   "source": [
    "# добавим полный относительный путь до картинок из train\n",
    "# в качестве новой колонки\n",
    "path_to_dataset_train = 'data'\n",
    "train['path'] =  path_to_dataset_train + '/' + train['img_path']"
   ]
  },
  {
   "cell_type": "code",
   "execution_count": 9,
   "metadata": {},
   "outputs": [],
   "source": [
    "# колонка с имена картинок больше не нужна\n",
    "train.drop(columns=['img_path'], inplace=True)"
   ]
  },
  {
   "cell_type": "code",
   "execution_count": 10,
   "metadata": {},
   "outputs": [
    {
     "data": {
      "text/html": [
       "<div>\n",
       "<style scoped>\n",
       "    .dataframe tbody tr th:only-of-type {\n",
       "        vertical-align: middle;\n",
       "    }\n",
       "\n",
       "    .dataframe tbody tr th {\n",
       "        vertical-align: top;\n",
       "    }\n",
       "\n",
       "    .dataframe thead th {\n",
       "        text-align: right;\n",
       "    }\n",
       "</style>\n",
       "<table border=\"1\" class=\"dataframe\">\n",
       "  <thead>\n",
       "    <tr style=\"text-align: right;\">\n",
       "      <th></th>\n",
       "      <th>label</th>\n",
       "      <th>type</th>\n",
       "      <th>path</th>\n",
       "    </tr>\n",
       "  </thead>\n",
       "  <tbody>\n",
       "    <tr>\n",
       "      <th>0</th>\n",
       "      <td>3</td>\n",
       "      <td>1</td>\n",
       "      <td>data/train_data/1.png</td>\n",
       "    </tr>\n",
       "    <tr>\n",
       "      <th>1</th>\n",
       "      <td>7</td>\n",
       "      <td>3</td>\n",
       "      <td>data/train_data/2.png</td>\n",
       "    </tr>\n",
       "    <tr>\n",
       "      <th>2</th>\n",
       "      <td>9</td>\n",
       "      <td>2</td>\n",
       "      <td>data/train_data/3.png</td>\n",
       "    </tr>\n",
       "    <tr>\n",
       "      <th>3</th>\n",
       "      <td>9</td>\n",
       "      <td>1</td>\n",
       "      <td>data/train_data/4.png</td>\n",
       "    </tr>\n",
       "    <tr>\n",
       "      <th>4</th>\n",
       "      <td>10</td>\n",
       "      <td>1</td>\n",
       "      <td>data/train_data/5.png</td>\n",
       "    </tr>\n",
       "  </tbody>\n",
       "</table>\n",
       "</div>"
      ],
      "text/plain": [
       "   label  type                   path\n",
       "0      3     1  data/train_data/1.png\n",
       "1      7     3  data/train_data/2.png\n",
       "2      9     2  data/train_data/3.png\n",
       "3      9     1  data/train_data/4.png\n",
       "4     10     1  data/train_data/5.png"
      ]
     },
     "execution_count": 10,
     "metadata": {},
     "output_type": "execute_result"
    }
   ],
   "source": [
    "train.head()"
   ]
  },
  {
   "cell_type": "markdown",
   "metadata": {
    "papermill": {
     "duration": 0.071526,
     "end_time": "2021-06-22T20:11:22.853156",
     "exception": false,
     "start_time": "2021-06-22T20:11:22.78163",
     "status": "completed"
    },
    "tags": []
   },
   "source": [
    "# Ставим задачу"
   ]
  },
  {
   "cell_type": "code",
   "execution_count": 15,
   "metadata": {
    "execution": {
     "iopub.execute_input": "2022-07-05T15:03:11.435456Z",
     "iopub.status.busy": "2022-07-05T15:03:11.435099Z",
     "iopub.status.idle": "2022-07-05T15:03:11.443489Z",
     "shell.execute_reply": "2022-07-05T15:03:11.442495Z",
     "shell.execute_reply.started": "2022-07-05T15:03:11.435426Z"
    },
    "papermill": {
     "duration": 0.086442,
     "end_time": "2021-06-22T20:11:23.010643",
     "exception": false,
     "start_time": "2021-06-22T20:11:22.924201",
     "status": "completed"
    },
    "tags": []
   },
   "outputs": [],
   "source": [
    "# у нас задача регрессии, ставим метрику и лосс согласно условиям\n",
    "# соревнования\n",
    "task = Task('reg', loss='mse', metric='mse')"
   ]
  },
  {
   "cell_type": "code",
   "execution_count": 16,
   "metadata": {
    "execution": {
     "iopub.execute_input": "2022-07-05T15:04:51.585907Z",
     "iopub.status.busy": "2022-07-05T15:04:51.585493Z",
     "iopub.status.idle": "2022-07-05T15:04:51.590716Z",
     "shell.execute_reply": "2022-07-05T15:04:51.589789Z",
     "shell.execute_reply.started": "2022-07-05T15:04:51.585872Z"
    },
    "papermill": {
     "duration": 0.07715,
     "end_time": "2021-06-22T20:11:23.43883",
     "exception": false,
     "start_time": "2021-06-22T20:11:23.36168",
     "status": "completed"
    },
    "tags": []
   },
   "outputs": [],
   "source": [
    "# целевая переменная для регрессии это PSNR\n",
    "# переменная пути для картинок в столбце path\n",
    "roles = {'target': 'label',\n",
    "         'path' : ['path'],\n",
    "         'drop' : ['type']\n",
    "         }"
   ]
  },
  {
   "cell_type": "code",
   "execution_count": 17,
   "metadata": {},
   "outputs": [],
   "source": [
    "automl = TabularCVAutoML(task=task,\n",
    "                         timeout=5 * 3600,\n",
    "                         cpu_limit=2,\n",
    "                         reader_params={'cv': 5, 'random_state': 42})\n"
   ]
  },
  {
   "cell_type": "markdown",
   "metadata": {},
   "source": [
    "# Обучение модели по кросс валидации по всей выборке"
   ]
  },
  {
   "cell_type": "code",
   "execution_count": 18,
   "metadata": {
    "execution": {
     "iopub.execute_input": "2022-07-05T15:26:18.568874Z",
     "iopub.status.busy": "2022-07-05T15:26:18.568501Z",
     "iopub.status.idle": "2022-07-05T15:26:18.608695Z",
     "shell.execute_reply": "2022-07-05T15:26:18.607791Z",
     "shell.execute_reply.started": "2022-07-05T15:26:18.568842Z"
    },
    "scrolled": false
   },
   "outputs": [
    {
     "name": "stdout",
     "output_type": "stream",
     "text": [
      "[08:04:39] Stdout logging level is DEBUG.\n",
      "[08:04:39] Task: reg\n",
      "\n",
      "[08:04:39] Start automl preset with listed constraints:\n",
      "[08:04:39] - time: 18000.00 seconds\n",
      "[08:04:39] - CPU: 2 cores\n",
      "[08:04:39] - memory: 16 GB\n",
      "\n",
      "[08:04:39] \u001b[1mTrain data shape: (3000, 3)\u001b[0m\n",
      "\n",
      "[08:04:39] Layer \u001b[1m1\u001b[0m train process start. Time left 18000.00 secs\n",
      "Loaded pretrained weights for efficientnet-b0\n",
      "[08:04:39] Load saved dataset for path\n",
      "[08:04:39] Feature path transformed\n",
      "[08:04:39] Start fitting \u001b[1mLvl_0_Pipe_0_Mod_0_LinearL2\u001b[0m ...\n",
      "[08:04:39] Training params: {'tol': 1e-06, 'max_iter': 100, 'cs': [1e-05, 5e-05, 0.0001, 0.0005, 0.001, 0.005, 0.01, 0.05, 0.1, 0.5, 1, 5, 10, 50, 100, 500, 1000, 5000, 10000, 50000, 100000], 'early_stopping': 2, 'categorical_idx': [], 'embed_sizes': (), 'data_size': 1280}\n",
      "[08:04:39] ===== Start working with \u001b[1mfold 0\u001b[0m for \u001b[1mLvl_0_Pipe_0_Mod_0_LinearL2\u001b[0m =====\n",
      "[08:04:39] Linear model: C = 1e-05 score = -2.3322192625777536\n",
      "[08:04:39] Linear model: C = 5e-05 score = -1.9433305594713663\n",
      "[08:04:39] Linear model: C = 0.0001 score = -1.8191579351362817\n",
      "[08:04:39] Linear model: C = 0.0005 score = -1.7288942321707266\n",
      "[08:04:39] Linear model: C = 0.001 score = -1.786656273337666\n",
      "[08:04:40] Linear model: C = 0.005 score = -2.118267112161576\n",
      "[08:04:40] ===== Start working with \u001b[1mfold 1\u001b[0m for \u001b[1mLvl_0_Pipe_0_Mod_0_LinearL2\u001b[0m =====\n",
      "[08:04:40] Linear model: C = 1e-05 score = -2.1337285783603237\n",
      "[08:04:40] Linear model: C = 5e-05 score = -1.684244667691828\n",
      "[08:04:40] Linear model: C = 0.0001 score = -1.561658161439007\n",
      "[08:04:40] Linear model: C = 0.0005 score = -1.4885900617762602\n",
      "[08:04:40] Linear model: C = 0.001 score = -1.5426733066351863\n",
      "[08:04:40] Linear model: C = 0.005 score = -1.854172691122936\n",
      "[08:04:40] ===== Start working with \u001b[1mfold 2\u001b[0m for \u001b[1mLvl_0_Pipe_0_Mod_0_LinearL2\u001b[0m =====\n",
      "[08:04:40] Linear model: C = 1e-05 score = -2.400710591114517\n",
      "[08:04:40] Linear model: C = 5e-05 score = -1.9867217026617958\n",
      "[08:04:40] Linear model: C = 0.0001 score = -1.8583109701767633\n",
      "[08:04:40] Linear model: C = 0.0005 score = -1.7573748384244914\n",
      "[08:04:40] Linear model: C = 0.001 score = -1.805287254640743\n",
      "[08:04:40] Linear model: C = 0.005 score = -2.1175231385803857\n",
      "[08:04:40] ===== Start working with \u001b[1mfold 3\u001b[0m for \u001b[1mLvl_0_Pipe_0_Mod_0_LinearL2\u001b[0m =====\n",
      "[08:04:40] Linear model: C = 1e-05 score = -2.0202094622905626\n",
      "[08:04:40] Linear model: C = 5e-05 score = -1.6868521632467406\n",
      "[08:04:40] Linear model: C = 0.0001 score = -1.6001229351983497\n",
      "[08:04:40] Linear model: C = 0.0005 score = -1.5966283623412378\n",
      "[08:04:40] Linear model: C = 0.001 score = -1.6914743021419283\n",
      "[08:04:40] Linear model: C = 0.005 score = -2.1240823457121927\n",
      "[08:04:40] ===== Start working with \u001b[1mfold 4\u001b[0m for \u001b[1mLvl_0_Pipe_0_Mod_0_LinearL2\u001b[0m =====\n",
      "[08:04:40] Linear model: C = 1e-05 score = -2.1496378801808276\n",
      "[08:04:40] Linear model: C = 5e-05 score = -1.6955204974016969\n",
      "[08:04:40] Linear model: C = 0.0001 score = -1.5711163039242997\n",
      "[08:04:40] Linear model: C = 0.0005 score = -1.5198643843893394\n",
      "[08:04:41] Linear model: C = 0.001 score = -1.597743631054392\n",
      "[08:04:41] Linear model: C = 0.005 score = -1.9937813139379201\n",
      "[08:04:41] Fitting \u001b[1mLvl_0_Pipe_0_Mod_0_LinearL2\u001b[0m finished. score = \u001b[1m-1.618270375820411\u001b[0m\n",
      "[08:04:41] \u001b[1mLvl_0_Pipe_0_Mod_0_LinearL2\u001b[0m fitting and predicting completed\n",
      "[08:04:41] Time left 17998.37 secs\n",
      "\n",
      "[08:04:44] Start fitting \u001b[1mLvl_0_Pipe_1_Mod_0_CatBoost\u001b[0m ...\n",
      "[08:04:44] Training params: {'task_type': 'GPU', 'thread_count': 2, 'random_seed': 42, 'num_trees': 2000, 'learning_rate': 0.05, 'l2_leaf_reg': 0.01, 'bootstrap_type': 'Bernoulli', 'grow_policy': 'SymmetricTree', 'max_depth': 5, 'min_data_in_leaf': 1, 'one_hot_max_size': 10, 'fold_permutation_block': 1, 'boosting_type': 'Plain', 'boost_from_average': True, 'od_type': 'Iter', 'od_wait': 300, 'max_bin': 32, 'feature_border_type': 'GreedyLogSum', 'nan_mode': 'Min', 'verbose': 100, 'allow_writing_files': False, 'devices': '0'}\n",
      "[08:04:44] ===== Start working with \u001b[1mfold 0\u001b[0m for \u001b[1mLvl_0_Pipe_1_Mod_0_CatBoost\u001b[0m =====\n",
      "[08:04:44] 0:\tlearn: 2.8844606\ttest: 2.7828504\tbest: 2.7828504 (0)\ttotal: 2.42ms\tremaining: 4.83s\n",
      "[08:04:44] 100:\tlearn: 2.0080427\ttest: 2.1489763\tbest: 2.1489763 (100)\ttotal: 103ms\tremaining: 1.93s\n",
      "[08:04:44] 200:\tlearn: 1.7892979\ttest: 2.1174921\tbest: 2.1162167 (194)\ttotal: 198ms\tremaining: 1.78s\n",
      "[08:04:44] 300:\tlearn: 1.6019185\ttest: 2.1015335\tbest: 2.0992426 (294)\ttotal: 295ms\tremaining: 1.66s\n",
      "[08:04:44] 400:\tlearn: 1.4445176\ttest: 2.0897842\tbest: 2.0887740 (382)\ttotal: 391ms\tremaining: 1.56s\n",
      "[08:04:44] 500:\tlearn: 1.3075476\ttest: 2.0868600\tbest: 2.0856999 (472)\ttotal: 488ms\tremaining: 1.46s\n",
      "[08:04:45] 600:\tlearn: 1.1875367\ttest: 2.0833555\tbest: 2.0829858 (571)\ttotal: 584ms\tremaining: 1.36s\n",
      "[08:04:45] 700:\tlearn: 1.0850319\ttest: 2.0734612\tbest: 2.0727738 (691)\ttotal: 680ms\tremaining: 1.26s\n",
      "[08:04:45] 800:\tlearn: 0.9892406\ttest: 2.0739761\tbest: 2.0724596 (711)\ttotal: 776ms\tremaining: 1.16s\n",
      "[08:04:45] 900:\tlearn: 0.9064961\ttest: 2.0726005\tbest: 2.0716994 (868)\ttotal: 873ms\tremaining: 1.06s\n",
      "[08:04:45] 1000:\tlearn: 0.8308631\ttest: 2.0724619\tbest: 2.0690534 (942)\ttotal: 976ms\tremaining: 974ms\n",
      "[08:04:45] 1100:\tlearn: 0.7619998\ttest: 2.0706026\tbest: 2.0690534 (942)\ttotal: 1.08s\tremaining: 881ms\n",
      "[08:04:45] 1200:\tlearn: 0.7019643\ttest: 2.0714327\tbest: 2.0690534 (942)\ttotal: 1.18s\tremaining: 786ms\n",
      "[08:04:45] bestTest = 2.069053371\n",
      "[08:04:45] bestIteration = 942\n",
      "[08:04:45] Shrink model to first 943 iterations.\n",
      "[08:04:45] ===== Start working with \u001b[1mfold 1\u001b[0m for \u001b[1mLvl_0_Pipe_1_Mod_0_CatBoost\u001b[0m =====\n",
      "[08:04:46] 0:\tlearn: 2.8450718\ttest: 2.9421612\tbest: 2.9421612 (0)\ttotal: 1.46ms\tremaining: 2.93s\n",
      "[08:04:46] 100:\tlearn: 2.0071572\ttest: 2.2275011\tbest: 2.2275011 (100)\ttotal: 105ms\tremaining: 1.96s\n",
      "[08:04:46] 200:\tlearn: 1.7715734\ttest: 2.1948469\tbest: 2.1948469 (200)\ttotal: 206ms\tremaining: 1.85s\n",
      "[08:04:46] 300:\tlearn: 1.5768519\ttest: 2.1800427\tbest: 2.1794415 (299)\ttotal: 309ms\tremaining: 1.75s\n",
      "[08:04:46] 400:\tlearn: 1.4210582\ttest: 2.1760984\tbest: 2.1736313 (377)\ttotal: 412ms\tremaining: 1.64s\n",
      "[08:04:46] 500:\tlearn: 1.2866102\ttest: 2.1824129\tbest: 2.1736313 (377)\ttotal: 514ms\tremaining: 1.54s\n",
      "[08:04:46] 600:\tlearn: 1.1703356\ttest: 2.1814163\tbest: 2.1736313 (377)\ttotal: 616ms\tremaining: 1.43s\n",
      "[08:04:46] bestTest = 2.173631259\n",
      "[08:04:46] bestIteration = 377\n",
      "[08:04:46] Shrink model to first 378 iterations.\n",
      "[08:04:46] ===== Start working with \u001b[1mfold 2\u001b[0m for \u001b[1mLvl_0_Pipe_1_Mod_0_CatBoost\u001b[0m =====\n",
      "[08:04:47] 0:\tlearn: 2.8704846\ttest: 2.8369014\tbest: 2.8369014 (0)\ttotal: 1.35ms\tremaining: 2.7s\n",
      "[08:04:47] 100:\tlearn: 1.9864005\ttest: 2.2404729\tbest: 2.2404729 (100)\ttotal: 103ms\tremaining: 1.95s\n",
      "[08:04:47] 200:\tlearn: 1.7678894\ttest: 2.2110451\tbest: 2.2109514 (199)\ttotal: 206ms\tremaining: 1.85s\n",
      "[08:04:47] 300:\tlearn: 1.5754269\ttest: 2.1958489\tbest: 2.1944219 (287)\ttotal: 309ms\tremaining: 1.74s\n",
      "[08:04:47] 400:\tlearn: 1.4138884\ttest: 2.1951892\tbest: 2.1940748 (379)\ttotal: 412ms\tremaining: 1.64s\n",
      "[08:04:48] 500:\tlearn: 1.2786351\ttest: 2.1876801\tbest: 2.1876801 (500)\ttotal: 515ms\tremaining: 1.54s\n",
      "[08:04:48] 600:\tlearn: 1.1616179\ttest: 2.1847742\tbest: 2.1835104 (598)\ttotal: 616ms\tremaining: 1.43s\n",
      "[08:04:48] 700:\tlearn: 1.0589946\ttest: 2.1861054\tbest: 2.1835104 (598)\ttotal: 718ms\tremaining: 1.33s\n",
      "[08:04:48] 800:\tlearn: 0.9687685\ttest: 2.1839282\tbest: 2.1831907 (788)\ttotal: 820ms\tremaining: 1.23s\n",
      "[08:04:48] 900:\tlearn: 0.8845717\ttest: 2.1859575\tbest: 2.1826550 (836)\ttotal: 923ms\tremaining: 1.13s\n",
      "[08:04:48] 1000:\tlearn: 0.8088269\ttest: 2.1844137\tbest: 2.1826550 (836)\ttotal: 1.02s\tremaining: 1.02s\n",
      "[08:04:48] 1100:\tlearn: 0.7434080\ttest: 2.1848785\tbest: 2.1826550 (836)\ttotal: 1.13s\tremaining: 921ms\n",
      "[08:04:48] bestTest = 2.182654977\n",
      "[08:04:48] bestIteration = 836\n",
      "[08:04:48] Shrink model to first 837 iterations.\n",
      "[08:04:48] ===== Start working with \u001b[1mfold 3\u001b[0m for \u001b[1mLvl_0_Pipe_1_Mod_0_CatBoost\u001b[0m =====\n",
      "[08:04:49] 0:\tlearn: 2.8605583\ttest: 2.8797112\tbest: 2.8797112 (0)\ttotal: 1.49ms\tremaining: 2.98s\n",
      "[08:04:49] 100:\tlearn: 2.0006870\ttest: 2.1791509\tbest: 2.1791509 (100)\ttotal: 105ms\tremaining: 1.97s\n",
      "[08:04:49] 200:\tlearn: 1.7793793\ttest: 2.1547217\tbest: 2.1547217 (200)\ttotal: 207ms\tremaining: 1.86s\n",
      "[08:04:49] 300:\tlearn: 1.5906963\ttest: 2.1418315\tbest: 2.1418315 (300)\ttotal: 311ms\tremaining: 1.75s\n",
      "[08:04:49] 400:\tlearn: 1.4256338\ttest: 2.1445675\tbest: 2.1397585 (311)\ttotal: 414ms\tremaining: 1.65s\n",
      "[08:04:49] 500:\tlearn: 1.2890544\ttest: 2.1448066\tbest: 2.1397585 (311)\ttotal: 517ms\tremaining: 1.55s\n",
      "[08:04:49] 600:\tlearn: 1.1701987\ttest: 2.1387108\tbest: 2.1387108 (600)\ttotal: 620ms\tremaining: 1.44s\n",
      "[08:04:49] 700:\tlearn: 1.0665104\ttest: 2.1342945\tbest: 2.1342945 (700)\ttotal: 723ms\tremaining: 1.34s\n",
      "[08:04:50] 800:\tlearn: 0.9768389\ttest: 2.1378929\tbest: 2.1335106 (740)\ttotal: 825ms\tremaining: 1.24s\n",
      "[08:04:50] 900:\tlearn: 0.8972219\ttest: 2.1372775\tbest: 2.1335106 (740)\ttotal: 928ms\tremaining: 1.13s\n",
      "[08:04:50] 1000:\tlearn: 0.8271056\ttest: 2.1391502\tbest: 2.1335106 (740)\ttotal: 1.03s\tremaining: 1.03s\n",
      "[08:04:50] bestTest = 2.133510646\n",
      "[08:04:50] bestIteration = 740\n",
      "[08:04:50] Shrink model to first 741 iterations.\n",
      "[08:04:50] ===== Start working with \u001b[1mfold 4\u001b[0m for \u001b[1mLvl_0_Pipe_1_Mod_0_CatBoost\u001b[0m =====\n",
      "[08:04:50] 0:\tlearn: 2.8591967\ttest: 2.8852591\tbest: 2.8852591 (0)\ttotal: 1.84ms\tremaining: 3.69s\n",
      "[08:04:50] 100:\tlearn: 1.9869893\ttest: 2.2473930\tbest: 2.2473930 (100)\ttotal: 129ms\tremaining: 2.42s\n",
      "[08:04:51] 200:\tlearn: 1.7791891\ttest: 2.2228406\tbest: 2.2221562 (199)\ttotal: 231ms\tremaining: 2.06s\n",
      "[08:04:51] 300:\tlearn: 1.5932044\ttest: 2.2144686\tbest: 2.2129286 (275)\ttotal: 332ms\tremaining: 1.87s\n",
      "[08:04:51] 400:\tlearn: 1.4238540\ttest: 2.2041747\tbest: 2.2020967 (368)\ttotal: 436ms\tremaining: 1.74s\n",
      "[08:04:51] 500:\tlearn: 1.2900807\ttest: 2.2089475\tbest: 2.2020967 (368)\ttotal: 538ms\tremaining: 1.61s\n",
      "[08:04:51] 600:\tlearn: 1.1738658\ttest: 2.2119640\tbest: 2.2020967 (368)\ttotal: 640ms\tremaining: 1.49s\n",
      "[08:04:51] bestTest = 2.202096668\n",
      "[08:04:51] bestIteration = 368\n",
      "[08:04:51] Shrink model to first 369 iterations.\n",
      "[08:04:51] Fitting \u001b[1mLvl_0_Pipe_1_Mod_0_CatBoost\u001b[0m finished. score = \u001b[1m-4.634146770600295\u001b[0m\n",
      "[08:04:51] \u001b[1mLvl_0_Pipe_1_Mod_0_CatBoost\u001b[0m fitting and predicting completed\n",
      "[08:04:51] Time left 17987.93 secs\n",
      "\n",
      "[08:04:51] \u001b[1mLayer 1 training completed.\u001b[0m\n",
      "\n",
      "[08:04:51] Blending: optimization starts with equal weights and score \u001b[1m-2.2323108812560633\u001b[0m\n",
      "[08:04:51] Blending: iteration \u001b[1m0\u001b[0m: score = \u001b[1m-1.5963662768334919\u001b[0m, weights = \u001b[1m[0.92172796 0.07827207]\u001b[0m\n",
      "[08:04:51] Blending: iteration \u001b[1m1\u001b[0m: score = \u001b[1m-1.5963662768334919\u001b[0m, weights = \u001b[1m[0.92172796 0.07827207]\u001b[0m\n",
      "[08:04:51] Blending: no score update. Terminated\n",
      "\n",
      "[08:04:51] \u001b[1mAutoml preset training completed in 12.08 seconds\u001b[0m\n",
      "\n",
      "[08:04:51] Model description:\n",
      "Final prediction for new objects (level 0) = \n",
      "\t 0.92173 * (5 averaged models Lvl_0_Pipe_0_Mod_0_LinearL2) +\n",
      "\t 0.07827 * (5 averaged models Lvl_0_Pipe_1_Mod_0_CatBoost) \n",
      "\n",
      "CPU times: user 10.3 s, sys: 2.95 s, total: 13.2 s\n",
      "Wall time: 12.1 s\n"
     ]
    }
   ],
   "source": [
    "%%time \n",
    "# будет использовано 5 фолдов кросс валидации\n",
    "# для извлечения признаков с картинок будет использована нейросеть EfficientNet b0\n",
    "# после извлечения числовых признаков нейросетью на них будут учится стандартные модели\n",
    "#  линейная регрессия и градиентный бустинг\n",
    "oof_pred = automl.fit_predict(train, roles = roles, verbose = 4)"
   ]
  },
  {
   "cell_type": "code",
   "execution_count": 19,
   "metadata": {},
   "outputs": [
    {
     "data": {
      "text/plain": [
       "array([4.322744  , 8.191117  , 8.26025   , ..., 5.8625326 , 6.945096  ,\n",
       "       0.38278496], dtype=float32)"
      ]
     },
     "execution_count": 19,
     "metadata": {},
     "output_type": "execute_result"
    }
   ],
   "source": [
    "# смотрим предсказания модели-регрессора\n",
    "preds = oof_pred.data[:,0]\n",
    "preds\n"
   ]
  },
  {
   "cell_type": "code",
   "execution_count": 20,
   "metadata": {},
   "outputs": [
    {
     "data": {
      "text/plain": [
       "array([3, 7, 9, ..., 7, 7, 1])"
      ]
     },
     "execution_count": 20,
     "metadata": {},
     "output_type": "execute_result"
    }
   ],
   "source": [
    "y_true = train['label'].values\n",
    "y_true"
   ]
  },
  {
   "cell_type": "code",
   "execution_count": 21,
   "metadata": {},
   "outputs": [],
   "source": [
    "# Введем метрики оценки качества модели\n",
    "def mse(y_true, y_pred):\n",
    "    return ((y_true - y_pred)**2).mean()\n",
    "def mae(y_true, y_pred):\n",
    "    return (np.abs(y_true - y_pred)).mean()"
   ]
  },
  {
   "cell_type": "code",
   "execution_count": 22,
   "metadata": {},
   "outputs": [
    {
     "name": "stdout",
     "output_type": "stream",
     "text": [
      "MSE = 1.5963662768334919\n",
      "MAE = 0.9565228770921628\n"
     ]
    }
   ],
   "source": [
    "# Оценим нашу модель на валидационной выборке:\n",
    "print(f\"MSE = {mse(y_true, preds)}\")\n",
    "print(f\"MAE = {mae(y_true, preds)}\")"
   ]
  },
  {
   "cell_type": "markdown",
   "metadata": {},
   "source": [
    "# Предскажем на тесте"
   ]
  },
  {
   "cell_type": "code",
   "execution_count": 23,
   "metadata": {},
   "outputs": [],
   "source": [
    "test = pd.read_csv('data/test.csv')"
   ]
  },
  {
   "cell_type": "code",
   "execution_count": 24,
   "metadata": {},
   "outputs": [
    {
     "data": {
      "text/html": [
       "<div>\n",
       "<style scoped>\n",
       "    .dataframe tbody tr th:only-of-type {\n",
       "        vertical-align: middle;\n",
       "    }\n",
       "\n",
       "    .dataframe tbody tr th {\n",
       "        vertical-align: top;\n",
       "    }\n",
       "\n",
       "    .dataframe thead th {\n",
       "        text-align: right;\n",
       "    }\n",
       "</style>\n",
       "<table border=\"1\" class=\"dataframe\">\n",
       "  <thead>\n",
       "    <tr style=\"text-align: right;\">\n",
       "      <th></th>\n",
       "      <th>img_path</th>\n",
       "    </tr>\n",
       "  </thead>\n",
       "  <tbody>\n",
       "    <tr>\n",
       "      <th>0</th>\n",
       "      <td>test_data/1.png</td>\n",
       "    </tr>\n",
       "    <tr>\n",
       "      <th>1</th>\n",
       "      <td>test_data/2.png</td>\n",
       "    </tr>\n",
       "    <tr>\n",
       "      <th>2</th>\n",
       "      <td>test_data/3.png</td>\n",
       "    </tr>\n",
       "    <tr>\n",
       "      <th>3</th>\n",
       "      <td>test_data/4.png</td>\n",
       "    </tr>\n",
       "    <tr>\n",
       "      <th>4</th>\n",
       "      <td>test_data/5.png</td>\n",
       "    </tr>\n",
       "  </tbody>\n",
       "</table>\n",
       "</div>"
      ],
      "text/plain": [
       "          img_path\n",
       "0  test_data/1.png\n",
       "1  test_data/2.png\n",
       "2  test_data/3.png\n",
       "3  test_data/4.png\n",
       "4  test_data/5.png"
      ]
     },
     "execution_count": 24,
     "metadata": {},
     "output_type": "execute_result"
    }
   ],
   "source": [
    "test.head()"
   ]
  },
  {
   "cell_type": "code",
   "execution_count": 26,
   "metadata": {},
   "outputs": [],
   "source": [
    "# добавим полный относительный путь до картинок из test\n",
    "# в качестве новой колонки\n",
    "path_to_dataset_test = 'data'\n",
    "test['path'] =  path_to_dataset_test + '/' + test['img_path']"
   ]
  },
  {
   "cell_type": "code",
   "execution_count": 27,
   "metadata": {},
   "outputs": [],
   "source": [
    "# колонка с имена картинок больше не нужна\n",
    "test.drop(columns=['img_path'], inplace=True)"
   ]
  },
  {
   "cell_type": "code",
   "execution_count": 28,
   "metadata": {},
   "outputs": [
    {
     "data": {
      "text/html": [
       "<div>\n",
       "<style scoped>\n",
       "    .dataframe tbody tr th:only-of-type {\n",
       "        vertical-align: middle;\n",
       "    }\n",
       "\n",
       "    .dataframe tbody tr th {\n",
       "        vertical-align: top;\n",
       "    }\n",
       "\n",
       "    .dataframe thead th {\n",
       "        text-align: right;\n",
       "    }\n",
       "</style>\n",
       "<table border=\"1\" class=\"dataframe\">\n",
       "  <thead>\n",
       "    <tr style=\"text-align: right;\">\n",
       "      <th></th>\n",
       "      <th>path</th>\n",
       "    </tr>\n",
       "  </thead>\n",
       "  <tbody>\n",
       "    <tr>\n",
       "      <th>0</th>\n",
       "      <td>data/test_data/1.png</td>\n",
       "    </tr>\n",
       "    <tr>\n",
       "      <th>1</th>\n",
       "      <td>data/test_data/2.png</td>\n",
       "    </tr>\n",
       "    <tr>\n",
       "      <th>2</th>\n",
       "      <td>data/test_data/3.png</td>\n",
       "    </tr>\n",
       "    <tr>\n",
       "      <th>3</th>\n",
       "      <td>data/test_data/4.png</td>\n",
       "    </tr>\n",
       "    <tr>\n",
       "      <th>4</th>\n",
       "      <td>data/test_data/5.png</td>\n",
       "    </tr>\n",
       "  </tbody>\n",
       "</table>\n",
       "</div>"
      ],
      "text/plain": [
       "                   path\n",
       "0  data/test_data/1.png\n",
       "1  data/test_data/2.png\n",
       "2  data/test_data/3.png\n",
       "3  data/test_data/4.png\n",
       "4  data/test_data/5.png"
      ]
     },
     "execution_count": 28,
     "metadata": {},
     "output_type": "execute_result"
    }
   ],
   "source": [
    "test.head()"
   ]
  },
  {
   "cell_type": "code",
   "execution_count": 29,
   "metadata": {},
   "outputs": [
    {
     "name": "stderr",
     "output_type": "stream",
     "text": [
      "100%|██████████| 47/47 [00:04<00:00,  9.54it/s]"
     ]
    },
    {
     "name": "stdout",
     "output_type": "stream",
     "text": [
      "[08:07:43] Feature path transformed\n"
     ]
    },
    {
     "name": "stderr",
     "output_type": "stream",
     "text": [
      "\n",
      "/home/admin-gpu/anaconda3/envs/sber_lama/lib/python3.9/site-packages/lightautoml/image/image.py:84: RuntimeWarning: invalid value encountered in divide\n",
      "  return list(hist / hist.sum())\n"
     ]
    }
   ],
   "source": [
    "# предсказание ансамблем моделей на тестовых данных\n",
    "test_pred = automl.predict(test)"
   ]
  },
  {
   "cell_type": "code",
   "execution_count": 30,
   "metadata": {},
   "outputs": [],
   "source": [
    "test_pred = test_pred.data[:,0]"
   ]
  },
  {
   "cell_type": "code",
   "execution_count": 31,
   "metadata": {},
   "outputs": [
    {
     "data": {
      "text/plain": [
       "array([ 7.4513717, 11.071525 ,  1.4318794, ..., 11.1494255,  6.2699213,\n",
       "        3.389724 ], dtype=float32)"
      ]
     },
     "execution_count": 31,
     "metadata": {},
     "output_type": "execute_result"
    }
   ],
   "source": [
    "test_pred"
   ]
  },
  {
   "cell_type": "markdown",
   "metadata": {},
   "source": [
    "# публикуем сабмит"
   ]
  },
  {
   "cell_type": "code",
   "execution_count": 32,
   "metadata": {},
   "outputs": [],
   "source": [
    "submission = pd.read_csv('data/sample_submission.csv')"
   ]
  },
  {
   "cell_type": "code",
   "execution_count": 33,
   "metadata": {},
   "outputs": [
    {
     "data": {
      "text/html": [
       "<div>\n",
       "<style scoped>\n",
       "    .dataframe tbody tr th:only-of-type {\n",
       "        vertical-align: middle;\n",
       "    }\n",
       "\n",
       "    .dataframe tbody tr th {\n",
       "        vertical-align: top;\n",
       "    }\n",
       "\n",
       "    .dataframe thead th {\n",
       "        text-align: right;\n",
       "    }\n",
       "</style>\n",
       "<table border=\"1\" class=\"dataframe\">\n",
       "  <thead>\n",
       "    <tr style=\"text-align: right;\">\n",
       "      <th></th>\n",
       "      <th>label</th>\n",
       "    </tr>\n",
       "  </thead>\n",
       "  <tbody>\n",
       "    <tr>\n",
       "      <th>0</th>\n",
       "      <td>0</td>\n",
       "    </tr>\n",
       "    <tr>\n",
       "      <th>1</th>\n",
       "      <td>0</td>\n",
       "    </tr>\n",
       "    <tr>\n",
       "      <th>2</th>\n",
       "      <td>0</td>\n",
       "    </tr>\n",
       "    <tr>\n",
       "      <th>3</th>\n",
       "      <td>0</td>\n",
       "    </tr>\n",
       "    <tr>\n",
       "      <th>4</th>\n",
       "      <td>0</td>\n",
       "    </tr>\n",
       "    <tr>\n",
       "      <th>...</th>\n",
       "      <td>...</td>\n",
       "    </tr>\n",
       "    <tr>\n",
       "      <th>5995</th>\n",
       "      <td>0</td>\n",
       "    </tr>\n",
       "    <tr>\n",
       "      <th>5996</th>\n",
       "      <td>0</td>\n",
       "    </tr>\n",
       "    <tr>\n",
       "      <th>5997</th>\n",
       "      <td>0</td>\n",
       "    </tr>\n",
       "    <tr>\n",
       "      <th>5998</th>\n",
       "      <td>0</td>\n",
       "    </tr>\n",
       "    <tr>\n",
       "      <th>5999</th>\n",
       "      <td>0</td>\n",
       "    </tr>\n",
       "  </tbody>\n",
       "</table>\n",
       "<p>6000 rows × 1 columns</p>\n",
       "</div>"
      ],
      "text/plain": [
       "      label\n",
       "0         0\n",
       "1         0\n",
       "2         0\n",
       "3         0\n",
       "4         0\n",
       "...     ...\n",
       "5995      0\n",
       "5996      0\n",
       "5997      0\n",
       "5998      0\n",
       "5999      0\n",
       "\n",
       "[6000 rows x 1 columns]"
      ]
     },
     "execution_count": 33,
     "metadata": {},
     "output_type": "execute_result"
    }
   ],
   "source": [
    "submission"
   ]
  },
  {
   "cell_type": "code",
   "execution_count": 34,
   "metadata": {},
   "outputs": [],
   "source": [
    "submission['label'] = test_pred\n"
   ]
  },
  {
   "cell_type": "code",
   "execution_count": 35,
   "metadata": {},
   "outputs": [
    {
     "data": {
      "text/html": [
       "<div>\n",
       "<style scoped>\n",
       "    .dataframe tbody tr th:only-of-type {\n",
       "        vertical-align: middle;\n",
       "    }\n",
       "\n",
       "    .dataframe tbody tr th {\n",
       "        vertical-align: top;\n",
       "    }\n",
       "\n",
       "    .dataframe thead th {\n",
       "        text-align: right;\n",
       "    }\n",
       "</style>\n",
       "<table border=\"1\" class=\"dataframe\">\n",
       "  <thead>\n",
       "    <tr style=\"text-align: right;\">\n",
       "      <th></th>\n",
       "      <th>label</th>\n",
       "    </tr>\n",
       "  </thead>\n",
       "  <tbody>\n",
       "    <tr>\n",
       "      <th>0</th>\n",
       "      <td>7.451372</td>\n",
       "    </tr>\n",
       "    <tr>\n",
       "      <th>1</th>\n",
       "      <td>11.071525</td>\n",
       "    </tr>\n",
       "    <tr>\n",
       "      <th>2</th>\n",
       "      <td>1.431879</td>\n",
       "    </tr>\n",
       "    <tr>\n",
       "      <th>3</th>\n",
       "      <td>6.963997</td>\n",
       "    </tr>\n",
       "    <tr>\n",
       "      <th>4</th>\n",
       "      <td>7.484351</td>\n",
       "    </tr>\n",
       "    <tr>\n",
       "      <th>...</th>\n",
       "      <td>...</td>\n",
       "    </tr>\n",
       "    <tr>\n",
       "      <th>5995</th>\n",
       "      <td>10.608534</td>\n",
       "    </tr>\n",
       "    <tr>\n",
       "      <th>5996</th>\n",
       "      <td>9.632649</td>\n",
       "    </tr>\n",
       "    <tr>\n",
       "      <th>5997</th>\n",
       "      <td>11.149426</td>\n",
       "    </tr>\n",
       "    <tr>\n",
       "      <th>5998</th>\n",
       "      <td>6.269921</td>\n",
       "    </tr>\n",
       "    <tr>\n",
       "      <th>5999</th>\n",
       "      <td>3.389724</td>\n",
       "    </tr>\n",
       "  </tbody>\n",
       "</table>\n",
       "<p>6000 rows × 1 columns</p>\n",
       "</div>"
      ],
      "text/plain": [
       "          label\n",
       "0      7.451372\n",
       "1     11.071525\n",
       "2      1.431879\n",
       "3      6.963997\n",
       "4      7.484351\n",
       "...         ...\n",
       "5995  10.608534\n",
       "5996   9.632649\n",
       "5997  11.149426\n",
       "5998   6.269921\n",
       "5999   3.389724\n",
       "\n",
       "[6000 rows x 1 columns]"
      ]
     },
     "execution_count": 35,
     "metadata": {},
     "output_type": "execute_result"
    }
   ],
   "source": [
    "submission"
   ]
  },
  {
   "cell_type": "code",
   "execution_count": 36,
   "metadata": {},
   "outputs": [],
   "source": [
    "submission_path = 'submission/lightautoml.csv'"
   ]
  },
  {
   "cell_type": "code",
   "execution_count": 37,
   "metadata": {},
   "outputs": [],
   "source": [
    "submission.to_csv(submission_path, index=False)"
   ]
  }
 ],
 "metadata": {
  "kernelspec": {
   "display_name": "Python 3.9.12 ('sber_lama')",
   "language": "python",
   "name": "python3"
  },
  "language_info": {
   "codemirror_mode": {
    "name": "ipython",
    "version": 3
   },
   "file_extension": ".py",
   "mimetype": "text/x-python",
   "name": "python",
   "nbconvert_exporter": "python",
   "pygments_lexer": "ipython3",
   "version": "3.9.12"
  },
  "vscode": {
   "interpreter": {
    "hash": "901158d8cd2db934fb9192b2a062c20c24f00bed87efea9fcd6e00355046a3d1"
   }
  }
 },
 "nbformat": 4,
 "nbformat_minor": 4
}
